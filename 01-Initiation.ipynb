{
 "cells": [
  {
   "cell_type": "markdown",
   "metadata": {},
   "source": [
    "Commençons par vérifier que tout fonctionne..."
   ]
  },
  {
   "cell_type": "code",
   "execution_count": null,
   "metadata": {},
   "outputs": [],
   "source": [
    "2+2"
   ]
  },
  {
   "cell_type": "code",
   "execution_count": null,
   "metadata": {},
   "outputs": [],
   "source": [
    "\"Hello world !\""
   ]
  },
  {
   "cell_type": "markdown",
   "metadata": {},
   "source": [
    "Voici quelques instructions.\n",
    " * Addition. ```5+7```.\n",
    " * Multiplication. ```6*7```; avec des parenthèses ```3*(12+5)```; avec des nombres à virgule ```3*1.5```.\n",
    " * Puissance. ```3**2``` pour $3^2 = 9$ ; puissance négative ```10**-3``` pour $10^{−3} = 0.001$.\n",
    " * Division réelle. ```14/4``` vaut 3.5; ```1/3``` vaut 0.3333333333333333.\n",
    " * Division entière et modulo.\n",
    "    * ```14//4``` vaut 3 : c’est le quotient de la division euclidienne de 14 par 4, note bien la double barre ;\n",
    "    * ```14%4``` vaut 2 : c’est le reste de la division euclidienne de 14 par 4, on dit aussi « 14 modulo 4 ».\n",
    "\n",
    "Remarque. On écrira les « nombres à virgule » sous la forme 3.5 (et pas 3,5). Le\n",
    "séparateur décimal est donc le point. En informatique les nombres à virgule sont appelés « nombres\n",
    "flottants ».\n"
   ]
  },
  {
   "cell_type": "markdown",
   "metadata": {},
   "source": [
    "# Activité 1\n",
    "Objectif : Faire ses premiers pas en Python"
   ]
  },
  {
   "cell_type": "markdown",
   "metadata": {},
   "source": [
    "### 1. Combien y a-t-il de secondes en un siècle ? \n",
    "Ne tiens pas compte des années bissextiles..."
   ]
  },
  {
   "cell_type": "code",
   "execution_count": null,
   "metadata": {},
   "outputs": [],
   "source": []
  },
  {
   "cell_type": "markdown",
   "metadata": {},
   "source": [
    "### 2. Jusqu’où faut-il compléter les pointillés pour obtenir un nombre plus grand qu’un milliard ?\n",
    "$$(1 + 2) × (3 + 4) × (5 + 6) × (7 + 8) × ···$$"
   ]
  },
  {
   "cell_type": "code",
   "execution_count": null,
   "metadata": {},
   "outputs": [],
   "source": []
  },
  {
   "cell_type": "markdown",
   "metadata": {},
   "source": [
    "### 3. Quels sont les trois derniers chiffres de\n",
    "123456789 × 123456789 × ··· (repétés 7 fois)"
   ]
  },
  {
   "cell_type": "code",
   "execution_count": null,
   "metadata": {},
   "outputs": [],
   "source": []
  },
  {
   "cell_type": "markdown",
   "metadata": {},
   "source": [
    "<span style=\"color:blue\">Et déjà cette question est infaisable par votre calculatrice...</span>\n"
   ]
  },
  {
   "cell_type": "markdown",
   "metadata": {},
   "source": [
    "### 4. Une petite recherche...\n",
    "7 est le premier entier tel que son inverse a une écriture décimale périodique de longueur 6 :\n",
    "$$ \\frac{1}{7}= 0.142857\\ 142857\\ 142857$$\n",
    "Quel est le premier entier tel que son inverse a une écriture décimale périodique de longueur 7 ? (un indice il est plus grand que 230 !)"
   ]
  },
  {
   "cell_type": "code",
   "execution_count": null,
   "metadata": {},
   "outputs": [],
   "source": [
    "1/7"
   ]
  },
  {
   "cell_type": "code",
   "execution_count": null,
   "metadata": {},
   "outputs": [],
   "source": []
  },
  {
   "cell_type": "markdown",
   "metadata": {},
   "source": [
    "### 5. Une grosse recherche...\n",
    "Trouve l’unique entier :\n",
    " * qui donne un quotient de 107 lorsque l’on effectue sa division (euclidienne) par 11,\n",
    " * et qui donne un quotient de 90 lorsque l’on effectue sa division (euclidienne) par 13,\n",
    " * et qui donne un reste égal à 6 modulo 7 !"
   ]
  },
  {
   "cell_type": "code",
   "execution_count": null,
   "metadata": {},
   "outputs": [],
   "source": []
  },
  {
   "cell_type": "markdown",
   "metadata": {},
   "source": [
    "# Cours..."
   ]
  },
  {
   "cell_type": "markdown",
   "metadata": {},
   "source": [
    "Pour demander à écrire un résultat on peut utiliser ```print(\"Hello !\")``` ou encore ```print(2+2)``` ou encore ```print(\"2+2=\", 2+2)```"
   ]
  },
  {
   "cell_type": "code",
   "execution_count": null,
   "metadata": {},
   "outputs": [],
   "source": [
    "print(\"Hello !\")\n",
    "print(2+2)\n",
    "print(\"2+2 = \", 2+2)"
   ]
  },
  {
   "cell_type": "markdown",
   "metadata": {},
   "source": [
    "### Variable. \n",
    "Une variable est un nom associé à un emplacement de la mémoire. C’est comme une boîte que l’on identifie par une étiquette. \n",
    "\n",
    "La commande ``` a = 3 ``` signifie que j’ai une variable ```a``` associée à la valeur 3.  \n",
    "\n",
    "\n",
    "Voici un premier exemple :\n",
    "\n"
   ]
  },
  {
   "cell_type": "code",
   "execution_count": null,
   "metadata": {},
   "outputs": [],
   "source": [
    "a = 3 # Une variable\n",
    "b = 5 # Une autre variable\n",
    "print(\"La somme vaut\",a+b) # Affiche la somme\n",
    "print(\"Le produit vaut\",a*b) # Affiche le produit\n",
    "c = b**a # Nouvelle variable...\n",
    "print(c) # ... qui s'affiche\n"
   ]
  },
  {
   "cell_type": "markdown",
   "metadata": {},
   "source": [
    "### Commentaires. \n",
    "Tout texte qui suit le caractère dièse ``` # ``` n’est pas exécuté par Python mais sert à expliquer le programme. \n",
    "C’est une bonne habitude de commenter abondamment ton code !"
   ]
  },
  {
   "cell_type": "markdown",
   "metadata": {},
   "source": [
    "### Noms. \n",
    "Il est très important de donner un nom clair et précis aux variables. \n",
    "\n",
    "Par exemple, avec les noms bien choisis tu devrais savoir ce que calcule le code suivant :\n"
   ]
  },
  {
   "cell_type": "code",
   "execution_count": null,
   "metadata": {},
   "outputs": [],
   "source": [
    "base = 8\n",
    "hauteur = 3\n",
    "aire = base * hauteur / 2\n",
    "print(aire)\n",
    "print(Aire) # !! Erreur !!\n"
   ]
  },
  {
   "cell_type": "markdown",
   "metadata": {},
   "source": [
    "<span style=\"color:red\">Attention ! Python distingue les majuscules des minuscules. Donc mavariable, Mavariable et\n",
    "MAVARIABLE sont des variables différentes.</span>"
   ]
  },
  {
   "cell_type": "markdown",
   "metadata": {},
   "source": [
    "### Réaffectation. \n",
    "\n",
    "Imaginons que tu veuilles tenir tes comptes journaliers. Tu pars d’une somme $S_0 = 1000$,\n",
    "le lendemain tu gagnes $100$, donc maintenant $S_1 = S_0 + 100$; le jour d’après tu rajoutes $200$, donc\n",
    "$S_2 = S_1 + 200$; puis tu perds $50$, donc au troisième jour $S_3 = S_2 − 50$. \n",
    "Avec Python tu peux n’utiliserqu’une seule variable ```S``` pour toutes ces opérations."
   ]
  },
  {
   "cell_type": "code",
   "execution_count": null,
   "metadata": {},
   "outputs": [],
   "source": [
    "S = 1000\n",
    "print(S)\n",
    "S = S + 100\n",
    "print(S)\n",
    "S = S + 200\n",
    "print(S)\n",
    "S = S - 50\n",
    "print(S)\n"
   ]
  },
  {
   "cell_type": "markdown",
   "metadata": {},
   "source": [
    "Il faut comprendre l’instruction ```S = S + 100``` comme ceci : « je prends le contenu de la boîte S, je\n",
    "rajoute 100, je remets tout dans la même boîte »"
   ]
  },
  {
   "cell_type": "markdown",
   "metadata": {},
   "source": [
    "# Activité 2\n",
    "Objectif utiliser des variables !"
   ]
  },
  {
   "cell_type": "markdown",
   "metadata": {},
   "source": [
    "### 1. (grande base + petite base) / 2\n",
    "Calcule l’aire d’un trapèze. \n",
    "![alt text](trapeze.png \"Trapeze\")\n",
    "Ton programme *impérativement* se terminer par l'instruction ```print(\"L'aire vaut \", aire)```\n"
   ]
  },
  {
   "cell_type": "code",
   "execution_count": null,
   "metadata": {},
   "outputs": [],
   "source": [
    "gBase = 7\n",
    "pBase = 4\n",
    "hauteur = 3\n",
    "\n",
    "\n",
    "print(\"L'aire vaut \", aire)"
   ]
  },
  {
   "cell_type": "markdown",
   "metadata": {},
   "source": [
    "### 2. Un pavé dans la mare\n",
    "Définis des variables pour calculer le volume d’une boîte (un parallélépipède rectangle) dont les\n",
    "dimensions sont 10, 8, 3."
   ]
  },
  {
   "cell_type": "code",
   "execution_count": null,
   "metadata": {},
   "outputs": [],
   "source": []
  },
  {
   "cell_type": "markdown",
   "metadata": {},
   "source": [
    "### 3. On tourne en rond\n",
    "Définis une variable PI qui vaut 3.14. Définis un rayon R = 10. Écris la formule de l’aire du disque\n",
    "de rayon R."
   ]
  },
  {
   "cell_type": "code",
   "execution_count": null,
   "metadata": {},
   "outputs": [],
   "source": []
  }
 ],
 "metadata": {
  "kernelspec": {
   "display_name": "Python 3",
   "language": "python",
   "name": "python3"
  },
  "language_info": {
   "codemirror_mode": {
    "name": "ipython",
    "version": 3
   },
   "file_extension": ".py",
   "mimetype": "text/x-python",
   "name": "python",
   "nbconvert_exporter": "python",
   "pygments_lexer": "ipython3",
   "version": "3.7.4"
  }
 },
 "nbformat": 4,
 "nbformat_minor": 2
}
