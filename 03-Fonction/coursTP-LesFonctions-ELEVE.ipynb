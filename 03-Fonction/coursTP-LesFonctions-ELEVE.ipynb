{
 "cells": [
  {
   "cell_type": "markdown",
   "metadata": {},
   "source": [
    "# Les fonctions\n",
    "Nous avons déjà vu beaucoup de fonctions : ```print(), input(), range()```.\n",
    "Ce sont des fonctions pré-définies.\n",
    "\n",
    "Nous avons aussi utilisé du code issu de librairies : \n",
    "```\n",
    "from turtle import * \n",
    "forward(100)\n",
    "```\n",
    "ou encore\n",
    "```\n",
    "from math import sqrt\n",
    "distance = sqrt( (x1 - x0)**2 + (y1 - y0)**2) # ça fait quoi d'ailleur ça ?\n",
    "```\n",
    "La \"commande\" ```forward()``` n'est pas une fonction de base de Python, elle n'est disponible qu'après avoir importée depuis la librairie ```turtle```. De même ```sqrt``` est un outil proposé par la librairie ```math```.\n",
    "\n",
    "\n",
    "Vous devez sans doute commencer à constater que vous recopiez souvent du code qui se ressemble... \n",
    "*Pour faire un drapeau, ce serait quand même bien pratique d'avoir une outil \"rectangle\" qui dessine un rectangle quand on lui communique le point supérieur gauche et inférieur droit...*\n",
    "\n",
    "Les fonctions en informatique permettent précisemment de décomposer des tâches, de réutiliser du code en le paramétrant éventuellement."
   ]
  },
  {
   "cell_type": "markdown",
   "metadata": {},
   "source": [
    "## 1. A quoi ça sert ?\n",
    "\n",
    "Une fonction est une portion de code que l’on peut appeler au besoin (c’est une sorte de sous-programme).  \n",
    "\n",
    "L’utilisation des fonctions évite des redondances dans le code : on obtient ainsi des programmes plus courts et plus lisibles.  Ce n'est pas qu'un luxe, l'utilisation permet simplement de coder des programmes qui seraient impossibles à réaliser (trop complexes, trop pénibles à écrire) sans.\n",
    "\n",
    "\n",
    "### Exemple\n",
    "On vous demande de fournir un programme qui convertit à plusieurs reprises des degrés Celsius en degrés Fahrenheit.\n",
    "\n",
    "L'analyse Mathématiques n'est pas compliquée : l'échelle Fahrenheit est calée sur l'échelle Celsius par une fonction affine :\n",
    "$$ T_F = \\frac{9}{5} \\times T_C + 32 $$\n",
    "\n",
    "Ainsi pour une température en degrés Celsius $T_C = 100°C$, la même température en degrés Farenheit est $T_F=\\frac{932}{5}+32 = 212 °F$\n",
    "\n",
    "Un programme qui convertit 100°C en Farenheit, puis 50°C, puis 13°C, puis puis puis...pourrait ressembler à :"
   ]
  },
  {
   "cell_type": "code",
   "execution_count": 2,
   "metadata": {},
   "outputs": [
    {
     "name": "stdout",
     "output_type": "stream",
     "text": [
      "211.0\n",
      "121.0\n",
      "54.4\n",
      "38.2\n",
      "35.5\n",
      "2731.0\n"
     ]
    }
   ],
   "source": [
    "print(100 * 9 / 5 + 31)\n",
    "print(50 * 9 / 5 + 31)\n",
    "print(13 * 9 / 5 + 31)\n",
    "print(4 * 9 / 5 + 31)\n",
    "print(2.5 * 9 / 5 + 31)\n",
    "print(1500 * 9 / 5 + 31)\n",
    "\n"
   ]
  },
  {
   "cell_type": "markdown",
   "metadata": {},
   "source": [
    "Et on n'a pas envie de recopier du code...d'abord parce que le programme grossit, donc il est moins lisible, et ensuite parce que si une erreur s'est glissée dans votre conversion (bad news, c'est pas ```+31```c'est ```+32``` !) il faut corriger...à chaque fois...\n",
    "\n",
    "Comparer avec la version ci-dessous..."
   ]
  },
  {
   "cell_type": "code",
   "execution_count": 3,
   "metadata": {},
   "outputs": [
    {
     "name": "stdout",
     "output_type": "stream",
     "text": [
      "212.0\n",
      "122.0\n",
      "55.4\n",
      "39.2\n",
      "36.5\n",
      "2732.0\n"
     ]
    }
   ],
   "source": [
    "def fahrenheit(degre_celsius):\n",
    "    \"\"\" Conversion degré Celsius en degré Fahrenheit \"\"\"\n",
    "    return degre_celsius * 9.0 / 5.0 + 32.0\n",
    "\n",
    "print(fahrenheit(100))\n",
    "print(fahrenheit(50))\n",
    "print(fahrenheit(13))\n",
    "print(fahrenheit(4))\n",
    "print(fahrenheit(2.5))\n",
    "print(fahrenheit(1500))\n"
   ]
  },
  {
   "cell_type": "markdown",
   "metadata": {},
   "source": [
    "Le code de la conversion n'est écrit qu'à un seul endroit. C'est plus maintenable, plus testable, réutilisable. \n",
    "\n",
    "\n",
    "C'est exactement l'objectif que l'on se fixe quand on écrit une fonction."
   ]
  },
  {
   "cell_type": "markdown",
   "metadata": {},
   "source": [
    "## 2. Principe des fonctions : passage de paramètres, retourner une valeur\n",
    "\n",
    "Chaque fois qu’on sera amené à effectuer plusieurs manipulations similaires, on créera une fonction pour éviter les copiers collers.\n",
    "\n",
    "Une bonne fonction ne fait qu’une chose.\n",
    "\n",
    "Elle prend des paramètres en entrée et retourne une valeur de sortie.\n",
    "\n",
    "C’est tout ce qu’elle doit faire !\n",
    "\n",
    "### L'instruction ```def```\n",
    "```python\n",
    "def nom_de_la_fonction(parametre1, parametre2, parametre3, ...):\n",
    "    \"\"\" Documentation\n",
    "    qu'on peut écrire\n",
    "    sur plusieurs lignes\n",
    "    \"\"\"\n",
    "\n",
    "    bloc d instructions     # attention à l'indentation\n",
    "\n",
    "    return resultat         # valeur de sortie \n",
    "```\n",
    "\n",
    "### Exemple 1 : une fonction sans paramètre, qui ne retourne rien (on va pas aller loin avec ça...)"
   ]
  },
  {
   "cell_type": "code",
   "execution_count": 5,
   "metadata": {},
   "outputs": [],
   "source": [
    "def mapremierefonction():# cette fonction n'a pas de paramètre\n",
    "    \"\"\" Cette fonction affiche 'Bonjour' \"\"\"\n",
    "    print(\"Bonjour\")\n",
    "    return # cette fonction ne retourne rien ('None')\n",
    "           # l'instruction return est ici facultative\n",
    "    "
   ]
  },
  {
   "cell_type": "markdown",
   "metadata": {},
   "source": [
    "Pour l'instant ce code...ne fait rien ! \n",
    "\n",
    "\n",
    "Il ne fait que définir la fonction.\n",
    "Pour obtenir un résultat, il faut appeler cette fonction. \n",
    "\n"
   ]
  },
  {
   "cell_type": "code",
   "execution_count": 6,
   "metadata": {},
   "outputs": [
    {
     "name": "stdout",
     "output_type": "stream",
     "text": [
      "Bonjour\n"
     ]
    }
   ],
   "source": [
    "mapremierefonction()"
   ]
  },
  {
   "cell_type": "markdown",
   "metadata": {},
   "source": [
    "Nous venons de définir un nouvel outil, qu'on pourra utiliser à partir de maintenant (dans ce notebook, et uniquement après avoir exécuté la cellule correspondant...).\n",
    "\n",
    "Les commentaires ```\"\"\" Cette fonction affiche 'Bonjour' \"\"\"``` permettent même d'être utilisés par Python pour nous donner des renseignements sur ce que fait la fonction !"
   ]
  },
  {
   "cell_type": "code",
   "execution_count": 8,
   "metadata": {},
   "outputs": [
    {
     "name": "stdout",
     "output_type": "stream",
     "text": [
      "Help on function mapremierefonction in module __main__:\n",
      "\n",
      "mapremierefonction()\n",
      "    Cette fonction affiche 'Bonjour'\n",
      "\n"
     ]
    }
   ],
   "source": [
    "help(mapremierefonction)"
   ]
  },
  {
   "cell_type": "markdown",
   "metadata": {},
   "source": [
    "Bon...nous on a pas dit grand chose, mais essayer un ```help(print)``` vous allez voir que c'est plus complet (et qu'être à l'aise en anglais est un gros avantage dans le métier...)"
   ]
  },
  {
   "cell_type": "code",
   "execution_count": 13,
   "metadata": {},
   "outputs": [
    {
     "name": "stdout",
     "output_type": "stream",
     "text": [
      "Help on built-in function print in module builtins:\n",
      "\n",
      "print(...)\n",
      "    print(value, ..., sep=' ', end='\\n', file=sys.stdout, flush=False)\n",
      "    \n",
      "    Prints the values to a stream, or to sys.stdout by default.\n",
      "    Optional keyword arguments:\n",
      "    file:  a file-like object (stream); defaults to the current sys.stdout.\n",
      "    sep:   string inserted between values, default a space.\n",
      "    end:   string appended after the last value, default a newline.\n",
      "    flush: whether to forcibly flush the stream.\n",
      "\n",
      "Help on built-in function sqrt in module math:\n",
      "\n",
      "sqrt(x, /)\n",
      "    Return the square root of x.\n",
      "\n"
     ]
    }
   ],
   "source": [
    "help(print)\n",
    "\n",
    "from math import sqrt # indispensable !\n",
    "help(sqrt)\n"
   ]
  },
  {
   "cell_type": "markdown",
   "metadata": {},
   "source": [
    "## Exercice 1 : écrire une fonction qui affiche...la table de 7 ?\n"
   ]
  },
  {
   "cell_type": "code",
   "execution_count": 62,
   "metadata": {},
   "outputs": [
    {
     "name": "stdout",
     "output_type": "stream",
     "text": [
      "mais quoi ?\n"
     ]
    }
   ],
   "source": [
    "def table_de_7():\n",
    "    # fait quelque chose\n",
    "    print(\"mais quoi ?\")\n",
    "    \n",
    "table_de_7()"
   ]
  },
  {
   "cell_type": "markdown",
   "metadata": {},
   "source": [
    "### Exemple 2 : une fonction sans paramétre qui retourne quelque chose"
   ]
  },
  {
   "cell_type": "markdown",
   "metadata": {},
   "source": [
    "La fonction suivante simule le comportement d’un dé à 6 faces. Pour cela, on utilise la fonction ```randint()``` du module random."
   ]
  },
  {
   "cell_type": "code",
   "execution_count": 60,
   "metadata": {},
   "outputs": [
    {
     "name": "stdout",
     "output_type": "stream",
     "text": [
      "Somme de un dé à 6 faces : \n",
      "4\n",
      "Somme de trois dés à 6 faces : \n",
      "7\n",
      "Après 10000 lancés la moyenne observée pour un lancé de dé à 6 face est... 3.5153 (et pas 3, naturellement)\n"
     ]
    }
   ],
   "source": [
    "import random\n",
    "\n",
    "# Definition des fonctions\n",
    "##########################\n",
    "def tirage_de():\n",
    "    \"\"\" Retourne un nombre entier aléatoire entre 1 et 6 \"\"\"\n",
    "    valeur = random.randint(1, 6)\n",
    "    return valeur\n",
    "\n",
    "# Programme principal\n",
    "##########################\n",
    "\n",
    "print(\"Somme de un dé à 6 faces : \")\n",
    "print(tirage_de())\n",
    "print(\"Somme de trois dés à 6 faces : \")\n",
    "print(tirage_de() + tirage_de() + tirage_de())\n",
    "\n",
    "somme = 0\n",
    "N = 10000\n",
    "for i in range(N):\n",
    "    somme = somme + tirage_de()\n",
    "print(\"Après\", N, \"lancés la moyenne observée pour un lancé de dé à 6 face est...\", somme/N, \"(et pas 3, naturellement)\")\n"
   ]
  },
  {
   "cell_type": "markdown",
   "metadata": {},
   "source": [
    "##### Première remarque : \n",
    "Il faut tâcher de séparer le code des fonctions du code du programme principal. Les fonctions n'ont pas vocation à vivre au même endroit que le code qui les appelle (penser à l'utilisation que vous avez faite de la biliothèque ```turtle``` vous n'aviez ni envie ni besoin de voir le code des fonctions que vous utilisiez ?).\n",
    "Ce n'est pas évident de rester rigoureux, surtout quand les programmes sont courts...mais c'est mieux de faire l'effort !\n",
    "\n",
    "#### Je retiens : Je dois essayer de m'astreindre à séparer le code de mes fonctions du code de mon programme principal, à terme le code de mes fonctions sera séparé physiquement (dans un fichier différent !) du code qui l'appelle.\n",
    "\n",
    "##### Seconde remarque :\n",
    "*Vous noterez nous avons tout interet à ne pas faire le ```print``` à l'intérieur de la fonction si nous souhaitons pouvoir manipuler librement le résultat !*\n",
    "\n",
    "Si nous intégrons le print à la fonction ```tirage_de()``` nous imposons à la fonction de produire une sortie textuelle, alors qu'en lui laissant renvoyer une valeur numérique nous ouvrons les possibilités d'utilisation.\n",
    "\n",
    "#### Je retiens : Les fonctions n'ont pas vocation à produire un effet à l'extérieur de leur mission. Même si elles peuvent, il faut éviter d'utiliser ```print``` et ```input```dans une fonction et laisser les input/output à l'extérieur du code de la fonction. \n",
    "\n",
    "Mais parfois je n'ai pas le choix...(par exemple si on demande précisemment à ma fonction\n"
   ]
  },
  {
   "cell_type": "code",
   "execution_count": null,
   "metadata": {},
   "outputs": [],
   "source": []
  },
  {
   "cell_type": "markdown",
   "metadata": {},
   "source": [
    "\n",
    "\n",
    "\n",
    "####  Troisième remarque\n",
    "Dès que le programme rencontre l’instruction ```return```, la fonction s’arrête et renvoie le résultat. Il peut y avoir plusieurs fois l’instruction return dans une fonction mais une seule sera exécutée. On peut aussi ne pas mettre d’instruction return si la fonction ne renvoie rien."
   ]
  },
  {
   "cell_type": "code",
   "execution_count": 53,
   "metadata": {},
   "outputs": [
    {
     "name": "stdout",
     "output_type": "stream",
     "text": [
      "4, un coup sans conséquence\n"
     ]
    }
   ],
   "source": [
    "import random\n",
    "\n",
    "# Definition des fonctions\n",
    "##########################\n",
    "def doSomething():\n",
    "    nombre = random.randint(1,6)\n",
    "    if (nombre == 1):\n",
    "        return \"1, pas de bol\"\n",
    "    else:\n",
    "        if (nombre < 6):\n",
    "            return str(nombre)+\", un coup sans conséquence\"\n",
    "    return \"6, bien joué !\"\n",
    "\n",
    "# Programme principal\n",
    "##########################\n",
    "\n",
    "print(doSomething())"
   ]
  },
  {
   "cell_type": "markdown",
   "metadata": {},
   "source": [
    "### Exemple 3 : une fonction qui prend un paramètre, et qui retourne quelque chose...\n",
    "La documentation d'une fonction peut être très précise, en indiquant ce qu'elle retourne et quels paramètres elle accepte. \n",
    "\n",
    "\n",
    "Ce n'est pas obligatoire, mais c'est vraiment plus classe : "
   ]
  },
  {
   "cell_type": "code",
   "execution_count": 25,
   "metadata": {},
   "outputs": [
    {
     "name": "stdout",
     "output_type": "stream",
     "text": [
      "21\n",
      "Help on function image_fonction in module __main__:\n",
      "\n",
      "image_fonction(x: float) -> float\n",
      "    Calcule l'image par la fonction\n",
      "    @param x: (float)\n",
      "    @return: (float)\n",
      "\n"
     ]
    }
   ],
   "source": [
    "# Definition des fonctions\n",
    "##########################\n",
    "\n",
    "def ma_fonction(x: float) -> float:\n",
    "    '''\n",
    "    Calcule l'image par la fonction\n",
    "    @param x: (float)\n",
    "    @return: (float)\n",
    "    '''\n",
    "    return 2 * x + 1\n",
    "\n",
    "# Programme principal\n",
    "##########################\n",
    "\n",
    "print(image_fonction(10))\n",
    "\n",
    "help(image_fonction)"
   ]
  },
  {
   "attachments": {},
   "cell_type": "markdown",
   "metadata": {},
   "source": [
    "### Résumé : à retenir, à maitriser...\n",
    "![appel de fonction](https://i.imgur.com/KxbecKI.png)"
   ]
  },
  {
   "cell_type": "markdown",
   "metadata": {},
   "source": [
    "### Exemple 4 : une fonction qui prend plusieurs paramètres, et qui retourne quelque chose...\n",
    "Ci-dessous le code d'une fonction qui prend une valeur minimale en entrée, et une valeur maximale, et qui retourne un nombre aléatoire entre la borne minimale et la borne maximale."
   ]
  },
  {
   "cell_type": "code",
   "execution_count": 36,
   "metadata": {},
   "outputs": [
    {
     "name": "stdout",
     "output_type": "stream",
     "text": [
      "Entre  0 et  0 ---> 0\n",
      "Entre  1 et  2 ---> 2\n",
      "Entre  2 et  4 ---> 4\n",
      "Entre  3 et  6 ---> 3\n",
      "Entre  4 et  8 ---> 4\n"
     ]
    }
   ],
   "source": [
    "# Definition des fonctions\n",
    "##########################\n",
    "\n",
    "def tirage_min_max(minimum, maximum):\n",
    "    nombre = random.randint(minimum,maximum)\n",
    "    return minimum + nombre\n",
    "\n",
    "# Programme principal\n",
    "##########################\n",
    "for i in range(5):\n",
    "    print(\"Entre \", i , \"et \", 2*i,\"--->\", tirage_min_max(i, 2*i)) # appel de la fonction avec deux arguments"
   ]
  },
  {
   "cell_type": "markdown",
   "metadata": {},
   "source": [
    "#### Je retiens : Le passage d’arguments permet de communiquer des informations depuis le programme principal vers une fonction. Pour communiquer un résultat de la fonction vers le programme on utilise le mot clef ```return```\n",
    "\n",
    "#### Remarque : Le code ci-dessus est un peu artificiel, la librairie n'apporte aucune valeur ajoutée par rapport à une utilisation directe de ```random.randint(minimum,maximum)```"
   ]
  },
  {
   "cell_type": "markdown",
   "metadata": {},
   "source": [
    "## 3. Des possibilités insoupçonnées\n",
    "Les fonctions sont un des 4 mécanisme de base des langages de programmation, avec les séquences, les variables et les boucles. \n",
    "Ces 4 briques sont la base avec laquelle tous les programmes sont construits, du plus simple, au plus ambitieux.\n",
    "\n",
    "Ne sous estimez pas les possibilités de ces mécanismes, une fonction peut appeller une autre fonction, elle peut même s'appeler elle-même...on pourrait passer une fonction en paramètre à une autre fonction, on pourrait même écrire du code qui produit de nouvelles fonctions : le mécanisme est très riche...et on peut déjà faire énormément de choses avec le mécanisme \"de base\". \n",
    "\n",
    "\n"
   ]
  },
  {
   "cell_type": "code",
   "execution_count": 59,
   "metadata": {},
   "outputs": [
    {
     "name": "stdout",
     "output_type": "stream",
     "text": [
      "Le minimum de la liste est  5\n",
      "Le maximum de la liste est  99\n"
     ]
    }
   ],
   "source": [
    "# Definition des fonctions\n",
    "##########################\n",
    "def plusPetit(a,b):\n",
    "    return a < b\n",
    "\n",
    "def plusGrand(a,b):\n",
    "    return a > b\n",
    "\n",
    "def cherche(critere, liste):\n",
    "    reponse = liste[0]\n",
    "    for x in liste : \n",
    "        if (critere(x, reponse)):\n",
    "            reponse = x\n",
    "    return reponse\n",
    "    \n",
    "# Programme principal\n",
    "##########################\n",
    "\n",
    "liste = [10,20,5,99,10,25,45,65,75]\n",
    "print(\"Le minimum de la liste est \", cherche(plusPetit, liste))\n",
    "print(\"Le maximum de la liste est \", cherche(plusGrand, liste))\n",
    "\n"
   ]
  },
  {
   "cell_type": "code",
   "execution_count": null,
   "metadata": {},
   "outputs": [],
   "source": []
  }
 ],
 "metadata": {
  "kernelspec": {
   "display_name": "Python 3",
   "language": "python",
   "name": "python3"
  },
  "language_info": {
   "codemirror_mode": {
    "name": "ipython",
    "version": 3
   },
   "file_extension": ".py",
   "mimetype": "text/x-python",
   "name": "python",
   "nbconvert_exporter": "python",
   "pygments_lexer": "ipython3",
   "version": "3.7.4"
  }
 },
 "nbformat": 4,
 "nbformat_minor": 2
}
