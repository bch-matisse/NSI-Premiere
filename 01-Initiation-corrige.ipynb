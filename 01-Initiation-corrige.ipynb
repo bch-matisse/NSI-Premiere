{
 "cells": [
  {
   "cell_type": "markdown",
   "metadata": {},
   "source": [
    "Commençons par vérifier que tout fonctionne..."
   ]
  },
  {
   "cell_type": "code",
   "execution_count": 1,
   "metadata": {},
   "outputs": [
    {
     "data": {
      "text/plain": [
       "4"
      ]
     },
     "execution_count": 1,
     "metadata": {},
     "output_type": "execute_result"
    }
   ],
   "source": [
    "2+2"
   ]
  },
  {
   "cell_type": "code",
   "execution_count": 2,
   "metadata": {},
   "outputs": [
    {
     "data": {
      "text/plain": [
       "'Hello world !'"
      ]
     },
     "execution_count": 2,
     "metadata": {},
     "output_type": "execute_result"
    }
   ],
   "source": [
    "\"Hello world !\""
   ]
  },
  {
   "cell_type": "markdown",
   "metadata": {},
   "source": [
    "Voici quelques instructions.\n",
    " * Addition. ```5+7```.\n",
    " * Multiplication. ```6*7```; avec des parenthèses ```3*(12+5)```; avec des nombres à virgule ```3*1.5```.\n",
    " * Puissance. ```3**2``` pour $3^2 = 9$ ; puissance négative ```10**-3``` pour $10^{−3} = 0.001$.\n",
    " * Division réelle. ```14/4``` vaut 3.5; ```1/3``` vaut 0.3333333333333333.\n",
    " * Division entière et modulo.\n",
    "    * ```14//4``` vaut 3 : c’est le quotient de la division euclidienne de 14 par 4, note bien la double barre ;\n",
    "    * ```14%4``` vaut 2 : c’est le reste de la division euclidienne de 14 par 4, on dit aussi « 14 modulo 4 ».\n",
    "\n",
    "Remarque. On écrira les « nombres à virgule » sous la forme 3.5 (et pas 3,5). Le\n",
    "séparateur décimal est donc le point. En informatique les nombres à virgule sont appelés « nombres\n",
    "flottants ».\n"
   ]
  },
  {
   "cell_type": "markdown",
   "metadata": {},
   "source": [
    "# Activité 1\n",
    "Objectif : Faire ses premiers pas en Python"
   ]
  },
  {
   "cell_type": "markdown",
   "metadata": {},
   "source": [
    "## 1. Combien y a-t-il de secondes en un siècle ? (Ne tiens pas compte des années bissextiles.)"
   ]
  },
  {
   "cell_type": "code",
   "execution_count": 3,
   "metadata": {},
   "outputs": [
    {
     "name": "stdout",
     "output_type": "stream",
     "text": [
      "Dans un siècle il y a  3153600000  secondes\n"
     ]
    }
   ],
   "source": [
    "minute = 60\n",
    "heure = 60 * minute\n",
    "jour = 24 * heure\n",
    "annee = 365 * jour\n",
    "siecle = 100 * annee\n",
    "print(\"Dans un siècle il y a \", siecle, \" secondes\")"
   ]
  },
  {
   "cell_type": "markdown",
   "metadata": {},
   "source": [
    "## 2. Jusqu’où faut-il compléter les pointillés pour obtenir un nombre plus grand qu’un milliard ?\n",
    "$$(1 + 2) × (3 + 4) × (5 + 6) × (7 + 8) × ···$$"
   ]
  },
  {
   "cell_type": "code",
   "execution_count": 4,
   "metadata": {},
   "outputs": [
    {
     "name": "stdout",
     "output_type": "stream",
     "text": [
      "16\n"
     ]
    }
   ],
   "source": [
    "result = 1\n",
    "i = 1\n",
    "while (result < 1000000000) :\n",
    "    result = result * (i + (i+1))\n",
    "    i = i + 2\n",
    "print(i-1)"
   ]
  },
  {
   "cell_type": "code",
   "execution_count": 5,
   "metadata": {},
   "outputs": [
    {
     "name": "stdout",
     "output_type": "stream",
     "text": [
      "1267389585\n",
      "40883535\n"
     ]
    }
   ],
   "source": [
    "print((1+2)*(3+4)*(5+6)*(7+8)*(9+10)*(11+12)*(13+14)*(15+16))\n",
    "print((1+2)*(3+4)*(5+6)*(7+8)*(9+10)*(11+12)*(13+14))"
   ]
  },
  {
   "cell_type": "markdown",
   "metadata": {},
   "source": [
    "## 3. Quels sont les trois derniers chiffres de\n",
    "123456789 × 123456789 × ··· (repétés 7 fois)"
   ]
  },
  {
   "cell_type": "code",
   "execution_count": 6,
   "metadata": {},
   "outputs": [
    {
     "data": {
      "text/plain": [
       "437124189620885610010004822109262358637075660656881926429"
      ]
     },
     "execution_count": 6,
     "metadata": {},
     "output_type": "execute_result"
    }
   ],
   "source": [
    "123456789 * 123456789 * 123456789 * 123456789 * 123456789 * 123456789 * 123456789"
   ]
  },
  {
   "cell_type": "markdown",
   "metadata": {},
   "source": [
    "<span style=\"color:blue\">Et déjà cette question est infaisable par votre calculatrice...</span>\n"
   ]
  },
  {
   "cell_type": "markdown",
   "metadata": {},
   "source": [
    "## 4. Une petite recherche...\n",
    "7 est le premier entier tel que son inverse a une écriture décimale périodique de longueur 6 :\n",
    "$$ \\frac{1}{7}= 0.142857\\ 142857\\ 142857$$\n",
    "Quel est le premier entier tel que son inverse a une écriture décimale périodique de longueur 7 ? (un indice il est plus grand que 230 !)"
   ]
  },
  {
   "cell_type": "code",
   "execution_count": 7,
   "metadata": {},
   "outputs": [
    {
     "data": {
      "text/plain": [
       "0.14285714285714285"
      ]
     },
     "execution_count": 7,
     "metadata": {},
     "output_type": "execute_result"
    }
   ],
   "source": [
    "1/7"
   ]
  },
  {
   "cell_type": "code",
   "execution_count": 8,
   "metadata": {},
   "outputs": [
    {
     "name": "stdout",
     "output_type": "stream",
     "text": [
      "1/ 239  a une partie decimale periodique de periode 7 : 0.0041841004184100415\n"
     ]
    }
   ],
   "source": [
    "for i in range(230,500):\n",
    "    inverse = 1/i\n",
    "    decalage = inverse * 10000000\n",
    "    cequireste = decalage - int(decalage)\n",
    "    if ((inverse - cequireste)**2 < 0.00000001):\n",
    "        print(\"1/\", i, \" a une partie decimale periodique de periode 7 :\", 1/i)"
   ]
  },
  {
   "cell_type": "markdown",
   "metadata": {},
   "source": [
    "## 5. Une grosse recherche...\n",
    "Trouve l’unique entier :\n",
    " * qui donne un quotient de 107 lorsque l’on effectue sa division (euclidienne) par 11,\n",
    " * et qui donne un quotient de 90 lorsque l’on effectue sa division (euclidienne) par 13,\n",
    " * et qui donne un reste égal à 6 modulo 7 !"
   ]
  },
  {
   "cell_type": "code",
   "execution_count": 9,
   "metadata": {},
   "outputs": [
    {
     "name": "stdout",
     "output_type": "stream",
     "text": [
      "Trouve, c'est  1182\n"
     ]
    }
   ],
   "source": [
    "trouve = False\n",
    "i = 0\n",
    "while (not trouve):\n",
    "    i = i +1\n",
    "    critere1 = (i // 11 == 107)\n",
    "    critere2 = (i // 13 == 90)\n",
    "    critere3 = (i % 7 == 6)\n",
    "    if (critere1 and critere2 and critere3):\n",
    "        print(\"Trouve, c'est \", i)\n",
    "        trouve = True"
   ]
  },
  {
   "cell_type": "markdown",
   "metadata": {},
   "source": [
    "# Cours..."
   ]
  },
  {
   "cell_type": "markdown",
   "metadata": {},
   "source": [
    "Pour demander à écrire un résultat on peut utiliser ```print(\"Hello !\")``` ou encore ```print(2+2)``` ou encore ```print(\"2+2=\", 2+2)```"
   ]
  },
  {
   "cell_type": "code",
   "execution_count": 10,
   "metadata": {},
   "outputs": [
    {
     "name": "stdout",
     "output_type": "stream",
     "text": [
      "Hello !\n",
      "4\n",
      "2+2 =  4\n"
     ]
    }
   ],
   "source": [
    "print(\"Hello !\")\n",
    "print(2+2)\n",
    "print(\"2+2 = \", 2+2)"
   ]
  },
  {
   "cell_type": "markdown",
   "metadata": {},
   "source": [
    "**Variable**. Une variable est un nom associé à un emplacement de la mémoire. C’est comme une boîte que l’on identifie par une étiquette. \n",
    "\n",
    "La commande ``` a = 3 ``` signifie que j’ai une variable ```a``` associée à la valeur 3.  \n",
    "\n",
    "\n",
    "Voici un premier exemple :\n",
    "\n"
   ]
  },
  {
   "cell_type": "code",
   "execution_count": 11,
   "metadata": {},
   "outputs": [
    {
     "name": "stdout",
     "output_type": "stream",
     "text": [
      "La somme vaut 8\n",
      "Le produit vaut 15\n",
      "125\n"
     ]
    }
   ],
   "source": [
    "a = 3 # Une variable\n",
    "b = 5 # Une autre variable\n",
    "print(\"La somme vaut\",a+b) # Affiche la somme\n",
    "print(\"Le produit vaut\",a*b) # Affiche le produit\n",
    "c = b**a # Nouvelle variable...\n",
    "print(c) # ... qui s'affiche\n"
   ]
  },
  {
   "cell_type": "markdown",
   "metadata": {},
   "source": [
    "**Commentaires**. Tout texte qui suit le caractère dièse ``` # ``` n’est pas exécuté par Python mais sert à expliquer le programme. \n",
    "C’est une bonne habitude de commenter abondamment ton code !"
   ]
  },
  {
   "cell_type": "markdown",
   "metadata": {},
   "source": [
    "**Noms**. Il est très important de donner un nom clair et précis aux variables. \n",
    "\n",
    "Par exemple, avec les noms bien choisis tu devrais savoir ce que calcule le code suivant :\n"
   ]
  },
  {
   "cell_type": "code",
   "execution_count": 12,
   "metadata": {},
   "outputs": [
    {
     "name": "stdout",
     "output_type": "stream",
     "text": [
      "12.0\n"
     ]
    },
    {
     "ename": "NameError",
     "evalue": "name 'Aire' is not defined",
     "output_type": "error",
     "traceback": [
      "\u001b[1;31m---------------------------------------------------------------------------\u001b[0m",
      "\u001b[1;31mNameError\u001b[0m                                 Traceback (most recent call last)",
      "\u001b[1;32m<ipython-input-12-49476871ad2b>\u001b[0m in \u001b[0;36m<module>\u001b[1;34m\u001b[0m\n\u001b[0;32m      3\u001b[0m \u001b[0maire\u001b[0m \u001b[1;33m=\u001b[0m \u001b[0mbase\u001b[0m \u001b[1;33m*\u001b[0m \u001b[0mhauteur\u001b[0m \u001b[1;33m/\u001b[0m \u001b[1;36m2\u001b[0m\u001b[1;33m\u001b[0m\u001b[1;33m\u001b[0m\u001b[0m\n\u001b[0;32m      4\u001b[0m \u001b[0mprint\u001b[0m\u001b[1;33m(\u001b[0m\u001b[0maire\u001b[0m\u001b[1;33m)\u001b[0m\u001b[1;33m\u001b[0m\u001b[1;33m\u001b[0m\u001b[0m\n\u001b[1;32m----> 5\u001b[1;33m \u001b[0mprint\u001b[0m\u001b[1;33m(\u001b[0m\u001b[0mAire\u001b[0m\u001b[1;33m)\u001b[0m \u001b[1;31m# !! Erreur !!\u001b[0m\u001b[1;33m\u001b[0m\u001b[1;33m\u001b[0m\u001b[0m\n\u001b[0m",
      "\u001b[1;31mNameError\u001b[0m: name 'Aire' is not defined"
     ]
    }
   ],
   "source": [
    "base = 8\n",
    "hauteur = 3\n",
    "aire = base * hauteur / 2\n",
    "print(aire)\n",
    "print(Aire) # !! Erreur !!\n"
   ]
  },
  {
   "cell_type": "markdown",
   "metadata": {},
   "source": [
    "<span style=\"color:red\">Attention ! Python distingue les majuscules des minuscules. Donc mavariable, Mavariable et\n",
    "MAVARIABLE sont des variables différentes.</span>"
   ]
  },
  {
   "cell_type": "markdown",
   "metadata": {},
   "source": [
    "**Réaffectation**. \n",
    "\n",
    "Imaginons que tu veuilles tenir tes comptes journaliers. Tu pars d’une somme $S_0 = 1000$,\n",
    "le lendemain tu gagnes $100$, donc maintenant $S_1 = S_0 + 100$; le jour d’après tu rajoutes $200$, donc\n",
    "$S_2 = S_1 + 200$; puis tu perds $50$, donc au troisième jour $S_3 = S_2 − 50$. \n",
    "Avec Python tu peux n’utiliserqu’une seule variable ```S``` pour toutes ces opérations."
   ]
  },
  {
   "cell_type": "code",
   "execution_count": null,
   "metadata": {},
   "outputs": [],
   "source": [
    "S = 1000\n",
    "print(S)\n",
    "S = S + 100\n",
    "print(S)\n",
    "S = S + 200\n",
    "print(S)\n",
    "S = S - 50\n",
    "print(S)\n"
   ]
  },
  {
   "cell_type": "markdown",
   "metadata": {},
   "source": [
    "Il faut comprendre l’instruction ```S = S + 100``` comme ceci : « je prends le contenu de la boîte S, je\n",
    "rajoute 100, je remets tout dans la même boîte »"
   ]
  },
  {
   "cell_type": "markdown",
   "metadata": {},
   "source": [
    "# Activité 2\n",
    "Objectif utiliser des variables !"
   ]
  },
  {
   "cell_type": "markdown",
   "metadata": {},
   "source": [
    "### 1. (grande base + petite base) / 2\n",
    "Calcule l’aire d’un trapèze. \n",
    "![alt text](trapeze.png \"Trapeze\")\n",
    "Ton programme *impérativement* se terminer par l'instruction ```print(\"L'aire vaut \", aire)```"
   ]
  },
  {
   "cell_type": "code",
   "execution_count": null,
   "metadata": {},
   "outputs": [],
   "source": [
    "gBase = 7\n",
    "pBase = 4\n",
    "hauteur = 3\n",
    "aire = (gBase + pBase)/2\n",
    "print(\"L'aire vaut \", aire)"
   ]
  },
  {
   "cell_type": "markdown",
   "metadata": {},
   "source": [
    "## 2. Un pavé dans la mare\n",
    "Définis des variables pour calculer le volume d’une boîte (un parallélépipède rectangle) dont les\n",
    "dimensions sont 10, 8, 3."
   ]
  },
  {
   "cell_type": "code",
   "execution_count": null,
   "metadata": {},
   "outputs": [],
   "source": [
    "L = 10\n",
    "l = 8 # c'est abject, ne pas utiliser la différence entre majuscules / minuscules !!!\n",
    "p = 3\n",
    "volume = L*l*p\n",
    "print(\"Le volume vaut \", volume)"
   ]
  },
  {
   "cell_type": "markdown",
   "metadata": {},
   "source": [
    "## 3. On tourne en rond\n",
    "Définis une variable PI qui vaut 3.14. Définis un rayon R = 10. Écris la formule de l’aire du disque\n",
    "de rayon R."
   ]
  },
  {
   "cell_type": "code",
   "execution_count": null,
   "metadata": {},
   "outputs": [],
   "source": [
    "PI = 3.14\n",
    "R = 10\n",
    "aire = PI * R ** 2\n",
    "print(\"Aire du disque de rayon\", R, \" est \", aire)"
   ]
  },
  {
   "cell_type": "code",
   "execution_count": null,
   "metadata": {},
   "outputs": [],
   "source": []
  }
 ],
 "metadata": {
  "kernelspec": {
   "display_name": "Python 3",
   "language": "python",
   "name": "python3"
  },
  "language_info": {
   "codemirror_mode": {
    "name": "ipython",
    "version": 3
   },
   "file_extension": ".py",
   "mimetype": "text/x-python",
   "name": "python",
   "nbconvert_exporter": "python",
   "pygments_lexer": "ipython3",
   "version": "3.7.4"
  }
 },
 "nbformat": 4,
 "nbformat_minor": 2
}
