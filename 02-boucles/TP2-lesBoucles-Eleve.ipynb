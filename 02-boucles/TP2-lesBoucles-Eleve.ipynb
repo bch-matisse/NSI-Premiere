{
 "cells": [
  {
   "cell_type": "markdown",
   "metadata": {},
   "source": [
    "# TP2 - Boucles en python\n",
    "### Objectifs :\n",
    "* Savoir écrire un programme en python utilisant des boucles « Pour » ou « Tant que »\n",
    "* Savoir identifier les situations où il faut utiliser ce genre de boucle\n",
    "## 1. C'est quoi une boucle ?\n",
    "\n",
    "Les boucles permettent de répéter plusieurs fois le même code, les mêmes instructions par exemple, pour parcourir un ensemble de données, ou bien pour chercher quelque chose. \n",
    "\n",
    "Si on parle de répétition, il faut bien entendu que cette répétition s'arrête à un moment ou un autre (sinon on a juste programmer un boucle sans fin, dont on ne sortira jamais, ce qui serait particulièrement cruel).\n",
    "\n",
    "## 2. Je connais le nombre de répétitions à l'avance : la boucle \"for\"\n",
    "Elle permet de répéter une même instruction un nombre déterminé de fois.\n",
    "Elle est de la forme :  \n",
    "```\n",
    "for i in range(debut, fin, saut):\n",
    "    do_something\n",
    "```\n",
    "\n",
    "Dans cet exemple ```i``` est une variable qui prendra comme valeur, dans l’ordre, les nombres entiers supérieure ou égal à \"début\", strictement inférieur à \"fin\" et d’écarts entre chaque \"saut\". \n",
    "Le code qui suit la ligne de déclaration de la boucle sera appellée tant que la variable ```i``` n'aura pas atteint ```fin```. Si le corps de la boucle contient plusieurs instructions il faudra les mettre toutes à la même indentation\n",
    "\n",
    "Bon...un exemple : "
   ]
  },
  {
   "cell_type": "code",
   "execution_count": null,
   "metadata": {},
   "outputs": [],
   "source": [
    "for i in range(1,5,1):\n",
    "    print(\"Allez les bleus !\")\n"
   ]
  },
  {
   "cell_type": "markdown",
   "metadata": {},
   "source": [
    "**Question:** Mais...Pourquoi on n'a que 4 lignes affichées ?   \n",
    "**Réponse:** .........."
   ]
  },
  {
   "cell_type": "code",
   "execution_count": null,
   "metadata": {},
   "outputs": [],
   "source": [
    "print(\"Compte à rebours\")\n",
    "for i in range(10,0,-1):\n",
    "    print(i)\n",
    "print(\"boom.\")\n"
   ]
  },
  {
   "cell_type": "markdown",
   "metadata": {},
   "source": [
    "Notez bien que c'est l'indentation qui détermine la partie de code qui doit être repétée et celle qui sera exécutée une fois la boucle terminée !\n",
    "\n",
    "En Java, en C, en C++, en Javascript on utilise des \"accolades\" pour indiquer le bloc qui sera repété.  \n",
    "En Python non.  \n",
    "![boucles](https://cdn-media-1.freecodecamp.org/images/0*T-_gCGIc-fu08OtW)\n",
    "Pourquoi ? En fait dans la plupart des langages il est de bon goût (mais pas imposé !) d'indenter son code pour faire apparaitre les blocs, en plus de l'utilisation des accolades (qui sont elles obligatoires). Puisque l'immense majorité des développeurs a déjà l'habitude d'indenter son code, mais qu'en revanche personne n'était d'accord sur *l'endroit* où il faut placer les accolades (fin de ligne ou début de la ligne suivante ?) Python a pris une décision amusante : on dégage les accolades et tout passe par l'indentation. \n",
    "\n",
    "\n",
    "\n",
    "<span style=\"color:red ; font-size:200%\"><br/>Attention : </span>\n",
    "\n",
    "\n",
    "**On peut indenter en utilisant des espaces ou des tabulations, mais pas les deux en même temps dans un même fichier !**  \n",
    "\n",
    "On choisit d'utiliser l'un ou l'autre (et je préconise les tabulations) mais pas de mélange !\n",
    "C'est particulièrement vicieux car visuellement on ne fait pas la différence entre des espaces et des tabulations ! \n",
    "Bien lire les messages d'erreur vous sauvera la vie si vous vous embrouillez !\n",
    "  \n",
    "![erreur](https://www.dev2qa.com/wp-content/uploads/2019/04/see-python-indentation-use-tab-or-white-space-in-sublime-text.png)\n",
    "```IndentationError: unindent does not match any outer indentation level```"
   ]
  },
  {
   "cell_type": "markdown",
   "metadata": {},
   "source": [
    "## 3. Je ne connais pas le nombre de répétitions à l'avance : la boucle \"while\"\n",
    "\n",
    "Souvent, on ne sait pas avant de commencer combien de fois on va répéter une boucle. \n",
    "\n",
    "Par exemple, si je code un quiz dans lequel je veux poser la question (en boucle) jusqu'à ce que la réponse soit correcte, je ne sais pas combien d'essais vont être nécessaires à l'utilisateur...\n",
    "\n",
    "La boucle **while**  permet de répéter une même instruction tant qu’une condition reste vérifiée.  \n",
    "\n",
    "La différence avec la boucle *for*, c’est donc que la condition d’arrêt n’est pas forcément liée à la valeur attendu par\n",
    "un compteur, mais que cela peut être n’importe quelle condition.\n",
    "\n",
    "Elle est de la forme :\n",
    "```while c :\n",
    "    do_something\n",
    "```  \n",
    "où ```c``` est une condition et ```do_something``` une instruction (ou un bloc) que l’on appelle corps de la boucle. A nouveau si le corps de la boucle contient plusieurs instructions il faudra les mettre à la même indentation.\n",
    "\n",
    "Concrètement, voici un exemple de programme utilisant une boucle while."
   ]
  },
  {
   "cell_type": "code",
   "execution_count": null,
   "metadata": {},
   "outputs": [],
   "source": [
    "A = int(input(\"Saisir un nombre entre 1 et 20 \"))\n",
    "while (A > 20 or A < 1):\n",
    "    print(\"Qu'est-ce qu'on se marre...\")\n",
    "    A = int(input(\"Saisir un nombre entre 1 et 20 (pour de vrai)\"))\n",
    "print(\"Merci, j'aime beaucoup \", A)"
   ]
  },
  {
   "cell_type": "markdown",
   "metadata": {},
   "source": [
    "Le ```while (A > 20 or A < 1):``` ci-dessus se lit *TANT QUE* *A est plus grand (strictement) que 20* **OU (ou bien)** *A est plus petit (strictement) que 1*\n",
    "\n",
    "<span style=\"color:red ; font-size:200%\"><br/>Attention : </span>\n",
    "\n",
    "\n",
    "Avec la boucle while apparaît un nouveau comportement possible pour les programmes : la **non-terminaison.** (et c'est un problème). \n",
    "\n",
    "Il est possible d’écrire une instruction ```while e :``` telle que la valeur de l’expression ```e``` soit toujours égale à\n",
    "```True```, si bien que l’exécution de l’instruction se répète et se répète, sans que jamais l’exécution de la boucle ne se\n",
    "termine. \n",
    "\n",
    "Le code suivant ne s'arrêtera...jamais ()\n",
    "\n",
    "\n",
    "<span style=\"color:red\">\n",
    "<br/>Sauvegardez avant de lancer le code suivant, et préparez vous mentalement à arrêter et relancer la feuille ! </span>"
   ]
  },
  {
   "cell_type": "code",
   "execution_count": null,
   "metadata": {},
   "outputs": [],
   "source": [
    "while (1 < 2): # Ca ne peut que bien se passer...\n",
    "    print(\"Allo ?\")\n",
    "print(\"Quoi? T'es une fille, t'as pas de shampoing ? C'est comme si j'te dis: t'es une fille, t'as pas d'cheveux! ©Nabila\")"
   ]
  },
  {
   "cell_type": "markdown",
   "metadata": {},
   "source": [
    "## 4. A vous de jouer...\n"
   ]
  },
  {
   "cell_type": "markdown",
   "metadata": {},
   "source": [
    "### 1) Ecrire un programme utilisant une boucle pour, qui demande 7 fois à l’utilisateur de saisir une valeur au choix et qui ajoutera à chaque fois cette valeur à la variable Somme."
   ]
  },
  {
   "cell_type": "code",
   "execution_count": null,
   "metadata": {},
   "outputs": [],
   "source": []
  },
  {
   "cell_type": "markdown",
   "metadata": {},
   "source": [
    "### 2) Recopier le programme précédent et le modifier pour qu’il recueille au clavier les températures de 7 jours successifs et calcule la température moyenne de la semaine.\n"
   ]
  },
  {
   "cell_type": "code",
   "execution_count": null,
   "metadata": {},
   "outputs": [],
   "source": []
  },
  {
   "cell_type": "markdown",
   "metadata": {},
   "source": [
    "### 3) Modifiez le programme précédent afin qu’il demande à l’utilisateur le nombre de jours, puis qu’il relève alors le bon nombre de températures et enfin qu’il calcule la température moyenne"
   ]
  },
  {
   "cell_type": "code",
   "execution_count": null,
   "metadata": {},
   "outputs": [],
   "source": []
  },
  {
   "cell_type": "markdown",
   "metadata": {},
   "source": [
    "### 4) Dédicace aux spécialités Maths (si ce n'est pas votre cas, appelez moi !) Ecrire un programme qui affiche le 100 ème terme de la suite définie par\n",
    "$$ \n",
    "\\left\\{\n",
    "\\begin{array}{l}\n",
    "  u_0 = 3 \\\\\n",
    "  u_{n+1} = \\frac{1}{2} \\times u_n + 7\n",
    "\\end{array}\n",
    "\\right.\n",
    "$$"
   ]
  },
  {
   "cell_type": "code",
   "execution_count": null,
   "metadata": {},
   "outputs": [],
   "source": []
  },
  {
   "cell_type": "markdown",
   "metadata": {},
   "source": [
    "### 5) Ecrire un programme qui génère aléatoirement un nombre entier compris entre 1 et 100 et qui aide l’utilisateur à deviner ce nombre en au plus 10 tentatives en l’aidant à l’aide des indications « le nombre proposé est trop petit » ou « le nombre proposé est trop grand ». \n",
    "\n",
    "A la fin du jeu, il sera précisé à l’utilisateur soit qu’il a perdu, soit qu’il a gagné.\n",
    "\n",
    "**Aide :** la fonction ```random.randint(« min », « max »)``` renvoie aléatoirement un nombre entre ```min``` et ```max```, pour pouvoir l’utiliser il faut en début de programme importer cette fonction en écrivant :\n",
    "```import random```"
   ]
  },
  {
   "cell_type": "code",
   "execution_count": null,
   "metadata": {},
   "outputs": [],
   "source": []
  },
  {
   "cell_type": "markdown",
   "metadata": {},
   "source": [
    "### 6) Recopier (ctrl+C / ctrl+V) puis modifier le programme précédent, avec un nombre illimité de tentatives. Le jeu s’arrête quand le joueur à trouvé le nombre et le programme affiche le nombre de coups utilisés pour gagner."
   ]
  },
  {
   "cell_type": "code",
   "execution_count": null,
   "metadata": {},
   "outputs": [],
   "source": []
  },
  {
   "cell_type": "markdown",
   "metadata": {},
   "source": [
    "### 7) Au jeu des chevaux, il est nécessaire de réaliser un double 6 pour sortir un cheval de l’écurie. Réaliser un programme qui, lorsqu’il est lancé, compte le nombre de coups nécessaires pour sortir le cheval de l’écurie. \n",
    "(On commencera par écrire l’instruction permettant de simuler un lancer de dé à six faces.)\n",
    "![Chevaux](https://upload.wikimedia.org/wikipedia/commons/thumb/5/5b/PetitsChevaux2.jpg/640px-PetitsChevaux2.jpg)"
   ]
  },
  {
   "cell_type": "code",
   "execution_count": null,
   "metadata": {},
   "outputs": [],
   "source": []
  }
 ],
 "metadata": {
  "kernelspec": {
   "display_name": "Python 3",
   "language": "python",
   "name": "python3"
  },
  "language_info": {
   "codemirror_mode": {
    "name": "ipython",
    "version": 3
   },
   "file_extension": ".py",
   "mimetype": "text/x-python",
   "name": "python",
   "nbconvert_exporter": "python",
   "pygments_lexer": "ipython3",
   "version": "3.7.4"
  }
 },
 "nbformat": 4,
 "nbformat_minor": 2
}
