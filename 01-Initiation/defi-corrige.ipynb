{
 "cells": [
  {
   "cell_type": "markdown",
   "metadata": {},
   "source": [
    "# Défi  1\n",
    "Si on liste tous les entiers naturels inférieurs à 20 qui sont multiples de 5 ou de 7, on obtient 5, 7, 10, 14 et 15. La somme de ces nombres est 51.\n",
    "\n",
    "Trouver le plus petit nombre dont la somme de tous les multiples de 5 ou de 7 est égale à 640487.\n",
    "\n",
    "(j'aurais bien voulu que ça tombe un peu mieux, mais l'arithmétique n'était pas d'accord)."
   ]
  },
  {
   "cell_type": "code",
   "execution_count": 10,
   "metadata": {},
   "outputs": [
    {
     "name": "stdout",
     "output_type": "stream",
     "text": [
      "2017\n"
     ]
    }
   ],
   "source": [
    "def sommeDiv(n):\n",
    "    somme = 0\n",
    "    for i in range(n):\n",
    "        if (i%5 == 0 or i%7 ==0):\n",
    "            somme =somme + i\n",
    "    return somme\n",
    "\n",
    "n = 1\n",
    "while (sommeDiv(n) != 640487):\n",
    "    n = n + 1\n",
    "print(n)"
   ]
  },
  {
   "cell_type": "markdown",
   "metadata": {},
   "source": [
    "# Défi 2\n",
    "Je suis ligoté sur les rails en gare d'Arras. \n",
    "Écrire un programme qui affiche un tableau me permettant de connaître l'heure à laquelle je serai déchiqueté par le train parti de la gare du Nord à 9 h (il y a 170 km entre la gare du Nord et Arras).\n",
    "\n",
    "Le tableau prédira les différentes heures possibles pour toutes les vitesses de 100 km/h à 300 km/h, par pas de 10 km/h, les résultats étant arrondis à la minute inférieure.\n",
    "\n",
    "* Écrire une fonction tchacatchac qui reçoit la vitesse du train et qui retourne l'heure du drame ;\n",
    "* Écrire le programme principal qui affiche le tableau demandé.\n",
    "![train](https://assets.sbnation.com/assets/1522481/Picture_3.png)"
   ]
  },
  {
   "cell_type": "code",
   "execution_count": 7,
   "metadata": {},
   "outputs": [
    {
     "name": "stdout",
     "output_type": "stream",
     "text": [
      " vitesse= 100 km/h impact dans  1 heure 42 minutes\n",
      " vitesse= 110 km/h impact dans  1 heure 32 minutes\n",
      " vitesse= 120 km/h impact dans  1 heure 25 minutes\n",
      " vitesse= 130 km/h impact dans  1 heure 18 minutes\n",
      " vitesse= 140 km/h impact dans  1 heure 12 minutes\n",
      " vitesse= 150 km/h impact dans  1 heure 7 minutes\n",
      " vitesse= 160 km/h impact dans  1 heure 3 minutes\n",
      " vitesse= 170 km/h impact dans  1 heure 0 minutes\n",
      " vitesse= 180 km/h impact dans  0 heure 56 minutes\n",
      " vitesse= 190 km/h impact dans  0 heure 53 minutes\n",
      " vitesse= 200 km/h impact dans  0 heure 51 minutes\n",
      " vitesse= 210 km/h impact dans  0 heure 48 minutes\n",
      " vitesse= 220 km/h impact dans  0 heure 46 minutes\n",
      " vitesse= 230 km/h impact dans  0 heure 44 minutes\n",
      " vitesse= 240 km/h impact dans  0 heure 42 minutes\n",
      " vitesse= 250 km/h impact dans  0 heure 40 minutes\n",
      " vitesse= 260 km/h impact dans  0 heure 39 minutes\n",
      " vitesse= 270 km/h impact dans  0 heure 37 minutes\n",
      " vitesse= 280 km/h impact dans  0 heure 36 minutes\n",
      " vitesse= 290 km/h impact dans  0 heure 35 minutes\n",
      " vitesse= 300 km/h impact dans  0 heure 34 minutes\n"
     ]
    }
   ],
   "source": [
    "def tchacatchac(vitesse):\n",
    "    distance = 170\n",
    "    duree = distance / vitesse\n",
    "    return duree\n",
    "\n",
    "def versHMS(duree):\n",
    "    heure = int(duree)\n",
    "    minutes = int((duree - heure) * 60)\n",
    "    return str(heure)+\" heure \" + str(minutes) + \" minutes\"\n",
    "\n",
    "for vitesse in range(100,301,10):\n",
    "    print(\" vitesse=\", vitesse,  \"km/h impact dans \", versHMS(tchacatchac(vitesse)))\n",
    "    "
   ]
  },
  {
   "cell_type": "code",
   "execution_count": null,
   "metadata": {},
   "outputs": [],
   "source": []
  }
 ],
 "metadata": {
  "kernelspec": {
   "display_name": "Python 3",
   "language": "python",
   "name": "python3"
  },
  "language_info": {
   "codemirror_mode": {
    "name": "ipython",
    "version": 3
   },
   "file_extension": ".py",
   "mimetype": "text/x-python",
   "name": "python",
   "nbconvert_exporter": "python",
   "pygments_lexer": "ipython3",
   "version": "3.7.4"
  }
 },
 "nbformat": 4,
 "nbformat_minor": 2
}
