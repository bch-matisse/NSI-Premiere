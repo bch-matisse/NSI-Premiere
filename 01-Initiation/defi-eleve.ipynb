{
 "cells": [
  {
   "cell_type": "markdown",
   "metadata": {},
   "source": [
    "# Défi  1\n",
    "Si on liste tous les entiers naturels inférieurs à 20 qui sont multiples de 5 ou de 7, on obtient 5, 7, 10, 14 et 15. La somme de ces nombres est 51.\n",
    "\n",
    "Trouver le plus petit nombre dont la somme de tous les multiples de 5 ou de 7 est égale à 640487.\n",
    "\n",
    "(j'aurais bien voulu que ça tombe un peu mieux, mais l'arithmétique n'était pas d'accord)."
   ]
  },
  {
   "cell_type": "code",
   "execution_count": null,
   "metadata": {},
   "outputs": [],
   "source": []
  },
  {
   "cell_type": "markdown",
   "metadata": {},
   "source": [
    "# Défi 2\n",
    "Je suis ligoté sur les rails en gare d'Arras. \n",
    "Écrire un programme qui affiche un tableau me permettant de connaître l'heure à laquelle je serai déchiqueté par le train parti de la gare du Nord à 9 h (il y a 170 km entre la gare du Nord et Arras).\n",
    "\n",
    "Le tableau prédira les différentes heures possibles pour toutes les vitesses de 100 km/h à 300 km/h, par pas de 10 km/h, les résultats étant arrondis à la minute inférieure.\n",
    "\n",
    "* Écrire une fonction tchacatchac qui reçoit la vitesse du train et qui retourne l'heure du drame ;\n",
    "* Écrire le programme principal qui affiche le tableau demandé.\n",
    "![train](https://assets.sbnation.com/assets/1522481/Picture_3.png)"
   ]
  },
  {
   "cell_type": "code",
   "execution_count": null,
   "metadata": {},
   "outputs": [],
   "source": [
    "\n",
    "    "
   ]
  },
  {
   "cell_type": "code",
   "execution_count": null,
   "metadata": {},
   "outputs": [],
   "source": []
  }
 ],
 "metadata": {
  "kernelspec": {
   "display_name": "Python 3",
   "language": "python",
   "name": "python3"
  },
  "language_info": {
   "codemirror_mode": {
    "name": "ipython",
    "version": 3
   },
   "file_extension": ".py",
   "mimetype": "text/x-python",
   "name": "python",
   "nbconvert_exporter": "python",
   "pygments_lexer": "ipython3",
   "version": "3.7.4"
  }
 },
 "nbformat": 4,
 "nbformat_minor": 2
}
