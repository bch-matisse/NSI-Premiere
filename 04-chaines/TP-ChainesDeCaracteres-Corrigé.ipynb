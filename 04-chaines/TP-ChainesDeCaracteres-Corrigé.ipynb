{
 "cells": [
  {
   "cell_type": "markdown",
   "metadata": {},
   "source": [
    "# COURS/TP : Chaînes de caractères et analyse d'un texte\n",
    "\n",
    "![chaine](https://i.imgur.com/P1GsXOZ.jpg)\n",
    "\n",
    "##  Caractère et chaîne.\n",
    "#### 1. Un **caractère** est un symbole unique, par exemple une lettre minuscule \"a\", une lettre majuscule \"B\", un symbole spécial \"&\", un symbole représentant un chiffre \"7\", une espace \" \".\n",
    "\n",
    "Pour désigner un caractère, il faut le mettre entre guillemets simples 'z' ou entre guillemets doubles \"z\".\n",
    "\n",
    "#### 2. Une **chaîne de caractères** est une suite de caractères, comme un mot ```\"Bonjour\"```, une phrase ```'Il fait beau.'```, un mot de passe ```\"N[w5ms}e!\"```.\n",
    "\n",
    "\n",
    "#### 3. Le type d’un caractère ou d’une chaîne est ```str``` (pour **string**).\n",
    "\n",
    "Remarque : On parle de *chaine* de caractère par réference à l'enchainement de caractères qui se suivent pour constituer un mot (une phrase) complèt(e)."
   ]
  },
  {
   "cell_type": "code",
   "execution_count": 1,
   "metadata": {},
   "outputs": [
    {
     "name": "stdout",
     "output_type": "stream",
     "text": [
      "A\n",
      "<class 'str'>\n",
      "B\n",
      "<class 'str'>\n",
      "Une chaine de caractere, comme si chaque caractere était suivi par le caractère suivant\n",
      "<class 'str'>\n"
     ]
    }
   ],
   "source": [
    "# Avec des guillements simples\n",
    "caractere = 'A'\n",
    "print(caractere)\n",
    "print(type(caractere))\n",
    "\n",
    "# Avec des guillements doubles\n",
    "caractere2 = \"B\"\n",
    "print(caractere2)\n",
    "print(type(caractere2))\n",
    "\n",
    "\n",
    "chaine = \"Une chaine de caractere, comme si chaque caractere était suivi par le caractère suivant\"\n",
    "print(chaine)\n",
    "print(type(chaine))"
   ]
  },
  {
   "cell_type": "markdown",
   "metadata": {},
   "source": [
    "> Pourquoi autoriser à la fois les guillements simples et les guillemets doubles pour le délimiteur de chaîne de caractères ?\n",
    "\n",
    "\n",
    "Pour pouvoir...utiliser des guillements dans la chaîne de caractère !\n",
    "\n",
    "\n",
    "> Attention on ne peut pas \"mixer\" les délimiteurs\n",
    "\n"
   ]
  },
  {
   "cell_type": "code",
   "execution_count": 2,
   "metadata": {},
   "outputs": [
    {
     "name": "stdout",
     "output_type": "stream",
     "text": [
      "Le Cid : 'Ô rage, ô desespoir'!\n",
      "Le Cid : \"Ô vieillesse ennemie!\"\n"
     ]
    }
   ],
   "source": [
    "# des guillements simples dans des guillemets doubles\n",
    "replique = \"Le Cid : 'Ô rage, ô desespoir'!\"\n",
    "print(replique)\n",
    "\n",
    "# des guillements doubles dans des guillemets simples\n",
    "replique2 = 'Le Cid : \"Ô vieillesse ennemie!\"'\n",
    "print(replique2)\n"
   ]
  },
  {
   "cell_type": "code",
   "execution_count": 3,
   "metadata": {},
   "outputs": [
    {
     "ename": "SyntaxError",
     "evalue": "invalid syntax (<ipython-input-3-5a1efa02aa88>, line 4)",
     "output_type": "error",
     "traceback": [
      "\u001b[1;36m  File \u001b[1;32m\"<ipython-input-3-5a1efa02aa88>\"\u001b[1;36m, line \u001b[1;32m4\u001b[0m\n\u001b[1;33m    print(  \"ça va 'beaucoup\" moins bien marcher')\u001b[0m\n\u001b[1;37m                                  ^\u001b[0m\n\u001b[1;31mSyntaxError\u001b[0m\u001b[1;31m:\u001b[0m invalid syntax\n"
     ]
    }
   ],
   "source": [
    "# mais si on fait n'importe quoi, ça ne fonctionne pas\n",
    "#       |      |        |                   |\n",
    "#       D      S        D                   S\n",
    "print(  \"ça va 'beaucoup\" moins bien marcher')"
   ]
  },
  {
   "cell_type": "markdown",
   "metadata": {},
   "source": [
    "##  Des opérations de base sur les chaînes\n",
    "#### 4. On peut mettre bout à bout deux chaînes, c'est la **concaténation**. Elle s’effectue à l’aide de l’opérateur ```+```.\n",
    "\n",
    "Par exemple ```\"para\"+\"pluie\"``` donne la chaîne ```\"parapluie\"```.\n",
    "\n"
   ]
  },
  {
   "cell_type": "code",
   "execution_count": 4,
   "metadata": {},
   "outputs": [
    {
     "name": "stdout",
     "output_type": "stream",
     "text": [
      "NSI\n",
      "Jean-Michel\n"
     ]
    }
   ],
   "source": [
    "print(\"N\" + \"S\" + \"I\")\n",
    "chaine1 = \"Jean\"\n",
    "chaine2 = \"Michel\"\n",
    "chaineComplete = chaine1 + \"-\" + chaine2\n",
    "print(chaineComplete)"
   ]
  },
  {
   "cell_type": "markdown",
   "metadata": {},
   "source": [
    "#### 5. On peut initialiser une variable avec une  chaîne vide ```\"\"```. \n",
    "\n",
    "C'est utile lorsque l’on veut initialiser une chaîne avant d’y ajouter d’autres caractères.\n"
   ]
  },
  {
   "cell_type": "code",
   "execution_count": 5,
   "metadata": {},
   "outputs": [
    {
     "name": "stdout",
     "output_type": "stream",
     "text": [
      "Les chiffres :  0123456789\n"
     ]
    }
   ],
   "source": [
    "chaine = \"\"\n",
    "for i in range(10):\n",
    "    chaine = chaine + str(i)\n",
    "print(\"Les chiffres : \", chaine)"
   ]
  },
  {
   "cell_type": "markdown",
   "metadata": {},
   "source": [
    "> Remarque :\n",
    "```print``` fournit un moyen d'afficher des chaînes de caractères.\n",
    "\n",
    "L'instruction suivante affiche *une* chaîne obtenue par concaténation de ```\"Une chaîne :\"``` et de ma variable :\n",
    "```\n",
    "chaine = \"Test\"\n",
    "print(\"Une chaîne:\" + chaine)\n",
    "```\n",
    "\n",
    "Alors que l'instruction suivante affiche *deux* chaînes, séparées automatiquement, et qu'il n'y a **pas** d'appel à l'opérateur de concaténation.\n",
    "```\n",
    "chaine = \"Test\"\n",
    "print(\"Une chaîne :\" , chaine)\n",
    "```\n",
    "\n",
    "La différence entre les deux pratiques est fine, mais dans le second cas il n'y a pas de confusion avec l'addition classique : \n",
    "```\n",
    "maVariable = 42\n",
    "print(\"Résultat:\", maVariable)\n",
    "```\n",
    "Mais le code suivant se termine en erreur :\n",
    "```\n",
    "maVariable = 42\n",
    "print(\"Résultat:\" + maVariable)\n",
    "```"
   ]
  },
  {
   "cell_type": "code",
   "execution_count": 6,
   "metadata": {},
   "outputs": [
    {
     "name": "stdout",
     "output_type": "stream",
     "text": [
      "1-Une chaîne:Test\n",
      "2-Une chaîne: Test\n",
      "1-Résultat: 42\n"
     ]
    },
    {
     "ename": "TypeError",
     "evalue": "can only concatenate str (not \"int\") to str",
     "output_type": "error",
     "traceback": [
      "\u001b[1;31m---------------------------------------------------------------------------\u001b[0m",
      "\u001b[1;31mTypeError\u001b[0m                                 Traceback (most recent call last)",
      "\u001b[1;32m<ipython-input-6-1291e761303d>\u001b[0m in \u001b[0;36m<module>\u001b[1;34m\u001b[0m\n\u001b[0;32m      4\u001b[0m \u001b[0mvariable\u001b[0m \u001b[1;33m=\u001b[0m \u001b[1;36m42\u001b[0m\u001b[1;33m\u001b[0m\u001b[1;33m\u001b[0m\u001b[0m\n\u001b[0;32m      5\u001b[0m \u001b[0mprint\u001b[0m\u001b[1;33m(\u001b[0m\u001b[1;34m\"1-Résultat:\"\u001b[0m \u001b[1;33m,\u001b[0m \u001b[0mvariable\u001b[0m\u001b[1;33m)\u001b[0m\u001b[1;33m\u001b[0m\u001b[1;33m\u001b[0m\u001b[0m\n\u001b[1;32m----> 6\u001b[1;33m \u001b[0mprint\u001b[0m\u001b[1;33m(\u001b[0m\u001b[1;34m\"2-Résultat:\"\u001b[0m \u001b[1;33m+\u001b[0m \u001b[0mvariable\u001b[0m\u001b[1;33m)\u001b[0m \u001b[1;31m# vous noterez que ça ne fonctionne simplement pas\u001b[0m\u001b[1;33m\u001b[0m\u001b[1;33m\u001b[0m\u001b[0m\n\u001b[0m",
      "\u001b[1;31mTypeError\u001b[0m: can only concatenate str (not \"int\") to str"
     ]
    }
   ],
   "source": [
    "chaine = \"Test\"\n",
    "print(\"1-Une chaîne:\" + chaine)\n",
    "print(\"2-Une chaîne:\" , chaine) # vous noterez qu'un espace est ajouté automatiquement\n",
    "variable = 42\n",
    "print(\"1-Résultat:\" , variable)\n",
    "print(\"2-Résultat:\" + variable) # vous noterez que ça ne fonctionne simplement pas\n"
   ]
  },
  {
   "cell_type": "markdown",
   "metadata": {},
   "source": [
    "#### 6. La longueur d’une chaîne est le nombre de caractères qu’elle contient. \n",
    "Elle s’obtient par la fonction ```len()```. \n",
    "Par exemple ```len(\"Hello World\")``` renvoie 11 (*l’espace compte comme un caractère*).\n"
   ]
  },
  {
   "cell_type": "code",
   "execution_count": 7,
   "metadata": {},
   "outputs": [
    {
     "name": "stdout",
     "output_type": "stream",
     "text": [
      "11\n"
     ]
    }
   ],
   "source": [
    "maChaine = \"Hello World\"\n",
    "print(len(maChaine))"
   ]
  },
  {
   "cell_type": "markdown",
   "metadata": {},
   "source": [
    "#### 7. Si ```mot``` est une **chaîne** alors on peut récupérer chaque caractère par ```mot[i]``` où```i``` est l'indice (la position) du caractère. \n",
    "\n",
    "Par exemple si ```mot = \"avion\"``` alors :\n",
    "![avion](https://i.imgur.com/bKqzy2s.jpeg)\n",
    "\n",
    "* ```mot[0]``` est le caractère ```\"a\"```,\n",
    "* ```mot[1]``` est le caractère ```\"v\"```,\n",
    "* ```mot[2]``` est le caractère ```\"i\"```,\n",
    "* ```mot[3]``` est le caractère ```\"o\"```,\n",
    "* ```mot[4]``` est le caractère ```\"n\"```.\n",
    "\n",
    "\n",
    "> Note : il y a 5 lettres dans le mot ```\"avion\"``` et qu’on y accède par les indices en commençant par 0. \n",
    "> Les indices sont donc ici 0, 1, 2, 3 et 4 pour la dernière lettre. \n",
    "\n",
    "#### 8. De façon plus générale, si `mot` est une chaîne, les caractères s’obtiennent par ```mot[i]``` pour ```i``` variant de ```0``` à ```len(mot)-1```.\n",
    "Il est donc possible de parcourir les différents caractères d'une chaîne de caractères avec une boucle ```for```."
   ]
  },
  {
   "cell_type": "code",
   "execution_count": 8,
   "metadata": {},
   "outputs": [
    {
     "name": "stdout",
     "output_type": "stream",
     "text": [
      "Longueur  12\n",
      "0 --> I\n",
      "1 --> n\n",
      "2 --> c\n",
      "3 --> r\n",
      "4 --> e\n",
      "5 --> d\n",
      "6 --> i\n",
      "7 --> b\n",
      "8 --> l\n",
      "9 --> e\n",
      "10 -->  \n",
      "11 --> !\n"
     ]
    }
   ],
   "source": [
    "phrase = \"Incredible !\"\n",
    "print(\"Longueur \", len(phrase))\n",
    "for i in range(len(phrase)):\n",
    "    print(i,\"-->\", phrase[i])"
   ]
  },
  {
   "cell_type": "markdown",
   "metadata": {},
   "source": [
    "![exo](https://i.imgur.com/FA95IaK.jpg)\n",
    "##### Exercice 1 :\n",
    "Ecrire une fonction qui prend en paramètre une chaîne de caractère et qui retourne une nouvelle chaîne composée du premier et du dernier caractère du paramètre.\n"
   ]
  },
  {
   "cell_type": "code",
   "execution_count": 9,
   "metadata": {},
   "outputs": [
    {
     "name": "stdout",
     "output_type": "stream",
     "text": [
      "Ts\n"
     ]
    }
   ],
   "source": [
    "# A vous de jouer, modifier le code pour qu'il passe les tests de la cellule suivante\n",
    "def premierDernier(parametre):\n",
    "    return parametre[0] + parametre[len(parametre)-1]\n",
    "\n",
    "print(premierDernier(\"Toujours\")) # devrait afficher \"Ts\""
   ]
  },
  {
   "cell_type": "code",
   "execution_count": 10,
   "metadata": {},
   "outputs": [
    {
     "name": "stdout",
     "output_type": "stream",
     "text": [
      "Ok !\n"
     ]
    }
   ],
   "source": [
    "# Validation, ne pas modifier !\n",
    "assert premierDernier(\"Bonjour\") == \"Br\", 'premierDernier(\"Bonjour\") devrait renvoyer Br'\n",
    "print(\"Ok !\")"
   ]
  },
  {
   "cell_type": "markdown",
   "metadata": {},
   "source": [
    "![exo](https://i.imgur.com/FA95IaK.jpg)\n",
    "##### Exercice 2 :\n",
    "* Ecrire une fonction qui prend en paramètre une chaîne de caractère et qui retourne le nombre de \"e\" dans cette chaîne.\n",
    "* Modifier votre fonction pour qu'elle compte à la fois les \"e\" et les \"E\""
   ]
  },
  {
   "cell_type": "code",
   "execution_count": 11,
   "metadata": {},
   "outputs": [
    {
     "name": "stdout",
     "output_type": "stream",
     "text": [
      "1\n"
     ]
    }
   ],
   "source": [
    "# Modifier le code pour qu'il passe les tests de la cellule suivante\n",
    "def nombreDeE(parametre):\n",
    "    nbr = 0\n",
    "    for c in parametre:\n",
    "        if c in [\"e\",\"E\"]:\n",
    "            nbr = nbr + 1\n",
    "    return nbr\n",
    "\n",
    "\n",
    "print(nombreDeE(\"cloche\")) # devrait afficher 1"
   ]
  },
  {
   "cell_type": "code",
   "execution_count": 12,
   "metadata": {},
   "outputs": [
    {
     "name": "stdout",
     "output_type": "stream",
     "text": [
      "Tous les tests sont OK !\n"
     ]
    }
   ],
   "source": [
    "# Validation, ne pas modifier !\n",
    "assert nombreDeE(\"Bonjour\") == 0, 'nombreDeE(\"Bonjour\") devrait renvoyer 0'\n",
    "assert nombreDeE(\"dereferencee\") == 6, 'nombreDeE(\"dereferencee\") devrait renvoyer 6'\n",
    "assert nombreDeE(\"Ecole\") == 2, 'nombreDeE(\"Ecole\") devrait renvoyer 2)'\n",
    "print(\"Tous les tests sont OK !\")"
   ]
  },
  {
   "cell_type": "markdown",
   "metadata": {},
   "source": [
    "![exo](https://i.imgur.com/FA95IaK.jpg)\n",
    "##### Exercice 3 :\n",
    "* Ecrire une fonction qui prend en paramètre une chaîne de caractère et qui l'affiche dans l'autre sens"
   ]
  },
  {
   "cell_type": "code",
   "execution_count": 13,
   "metadata": {},
   "outputs": [
    {
     "name": "stdout",
     "output_type": "stream",
     "text": [
      "ISN\n"
     ]
    }
   ],
   "source": [
    "# Modifier le code pour qu'il passe les tests de la cellule suivante\n",
    "def retourne(chaine):\n",
    "    retourne = \"\"\n",
    "    for c in chaine:\n",
    "        retourne = c + retourne\n",
    "    return retourne\n",
    "\n",
    "print(retourne(\"NSI\"))"
   ]
  },
  {
   "cell_type": "code",
   "execution_count": 14,
   "metadata": {},
   "outputs": [
    {
     "name": "stdout",
     "output_type": "stream",
     "text": [
      "Tous les tests sont OK !\n"
     ]
    }
   ],
   "source": [
    "# Validation, ne pas modifier !\n",
    "assert retourne(\"A\") == \"A\", 'retourne(\"A\") devrait renvoyer \"A\"'\n",
    "assert retourne(\"AB\") == \"BA\", 'retourne(\"BA\") devrait renvoyer \"BA\"'\n",
    "assert retourne(\"Chaluleau\") == \"uaelulahC\", 'retourne(\"Chaluleau\") devrait renvoyer \"uaelulahC\"'\n",
    "print(\"Tous les tests sont OK !\")"
   ]
  },
  {
   "cell_type": "markdown",
   "metadata": {},
   "source": [
    "![exoDur](https://i.imgur.com/nQaRqaG.jpg)\n",
    "##### Exercice 4 (plus costaud) :\n",
    "Un palindrome est une chaîne de caractères qui se lit de manière identique de gauche vers la droite comme de\n",
    "droite vers la gauche. Exemple : KAYAK, RADAR, ELLE sont des palindromes.\n",
    "* Ecrire une fonction qui retourne `True` si une chaine de caractère est un palindrome, `False`sinon\n",
    "* Certaines phrases peuvent être aussi des palindromes, mais la plupart du temps il ne faut pas tenir compte des espaces pour les détecter, par exemple `engage le jeu que je le gagne` est un palindrome si on ignore les espaces. \n",
    "Modifier votre fonction pour qu'elle ne tienne pas compte des espaces.\n"
   ]
  },
  {
   "cell_type": "code",
   "execution_count": 15,
   "metadata": {},
   "outputs": [
    {
     "name": "stdout",
     "output_type": "stream",
     "text": [
      "True\n",
      "False\n"
     ]
    }
   ],
   "source": [
    "# Modifier le code pour qu'il passe les tests de la cellule suivante\n",
    "def palindrome(chaine):\n",
    "    debut = 0 \n",
    "    fin = len(chaine) - 1\n",
    "    while (debut < fin):\n",
    "        if (chaine[debut] == \" \"):\n",
    "            debut = debut + 1\n",
    "        elif (chaine[fin] == \" \"):\n",
    "            fin = fin - 1            \n",
    "        elif (chaine[debut] != chaine[fin]):\n",
    "            return False\n",
    "        else :\n",
    "            debut = debut + 1\n",
    "            fin = fin - 1\n",
    "    return True\n",
    "        \n",
    "print(palindrome(\"kayak\"))\n",
    "print(palindrome(\"NSI\"))"
   ]
  },
  {
   "cell_type": "code",
   "execution_count": 16,
   "metadata": {},
   "outputs": [
    {
     "name": "stdout",
     "output_type": "stream",
     "text": [
      "Tous les tests sont OK !\n"
     ]
    }
   ],
   "source": [
    "# Validation, ne pas modifier !\n",
    "assert palindrome(\"kayak\") == True, 'palindrome(\"kayak\") devrait renvoyer \"True\"'\n",
    "assert palindrome(\"cowboy\") == False, 'palindrome(\"cowboy\") devrait renvoyer \"False\"'\n",
    "assert palindrome(\"A\") == True, 'palindrome(\"A\") devrait renvoyer \"True\"'\n",
    "assert palindrome(\"AAA\") == True, 'palindrome(\"AAA\") devrait renvoyer \"True\"'\n",
    "assert palindrome(\"ADA\") == True, 'palindrome(\"ADA\") devrait renvoyer \"True\"'\n",
    "assert palindrome(\"A  A     \") == True, 'palindrome(\"A  A     \") devrait renvoyer \"True\"'\n",
    "assert palindrome(\"A   B A     \") == True, 'palindrome(\"A   B A     \") devrait renvoyer \"True\"'\n",
    "assert palindrome(\"A   B C     \") == False, 'palindrome(\"A   B C     \") devrait renvoyer \"False\"'\n",
    "assert palindrome(\"engage le jeu que je le gagne\") == True, 'palindrome(\"engage le jeu que je le gagne\") devrait renvoyer \"True\"'\n",
    "print(\"Tous les tests sont OK !\")"
   ]
  },
  {
   "cell_type": "markdown",
   "metadata": {},
   "source": [
    "![(cette blague est absolument lamentable, et ne sera comprise que par les Bretons...)](https://encrypted-tbn0.gstatic.com/images?q=tbn%3AANd9GcR77Bza7L-YRDepJ6HNeIQBKdVwsWzlRW4nNg&usqp=CAU)\n"
   ]
  },
  {
   "cell_type": "markdown",
   "metadata": {},
   "source": [
    "##  Les sous-chaines"
   ]
  },
  {
   "cell_type": "markdown",
   "metadata": {},
   "source": [
    "#### 8.On peut extraire plusieurs caractères d’une chaîne à l’aide de la syntaxe ```mot[i:j]``` qui renvoie une (nouvelle) chaîne formée des caractères numéro ```i``` à ```j − 1``` (attention le caractère numéro `j` n’est pas inclus !).\n",
    "\n",
    "Par exemple si ```mot = \"vendredi\"``` alors :\n",
    "![vendredi](https://i.imgur.com/LPBxw0l.jpeg)\n",
    "* ```mot[0:4]``` renvoie la sous-chaîne \"vend\" formée des caractères de rang 0, 1, 2 et 3 (mais pas 4),\n",
    "* ```mot[3:6]``` renvoie \"dre\" correspondant aux rangs 3, 4 et 5 (mais pas 6).\n",
    "\n",
    "Si vous voulez mémoriser plus facilement ce mécanisme, il faut vous représenter que les indices pointent des emplacements situés **entre** les caractères, comme dans le schéma ci-dessous :\n",
    "![slice](https://i.imgur.com/wq00LQc.jpeg)\n",
    "\n",
    "> Autre exemple : ```mot[1:len(mot)-1]``` renvoie le mot privé de sa première et dernière lettre.\n",
    "\n",
    "Attention à la syntaxe ```mot[1:len(mot-1)]``` n'a AUCUN sens...\n",
    "\n",
    "\n",
    "\n"
   ]
  },
  {
   "cell_type": "code",
   "execution_count": 17,
   "metadata": {},
   "outputs": [
    {
     "name": "stdout",
     "output_type": "stream",
     "text": [
      "Vend\n",
      "dre\n",
      "endred\n"
     ]
    },
    {
     "ename": "TypeError",
     "evalue": "unsupported operand type(s) for -: 'str' and 'int'",
     "output_type": "error",
     "traceback": [
      "\u001b[1;31m---------------------------------------------------------------------------\u001b[0m",
      "\u001b[1;31mTypeError\u001b[0m                                 Traceback (most recent call last)",
      "\u001b[1;32m<ipython-input-17-d8f0ced04c17>\u001b[0m in \u001b[0;36m<module>\u001b[1;34m\u001b[0m\n\u001b[0;32m      3\u001b[0m \u001b[0mprint\u001b[0m\u001b[1;33m(\u001b[0m\u001b[0mmot\u001b[0m\u001b[1;33m[\u001b[0m\u001b[1;36m3\u001b[0m\u001b[1;33m:\u001b[0m\u001b[1;36m6\u001b[0m\u001b[1;33m]\u001b[0m\u001b[1;33m)\u001b[0m\u001b[1;33m\u001b[0m\u001b[1;33m\u001b[0m\u001b[0m\n\u001b[0;32m      4\u001b[0m \u001b[0mprint\u001b[0m\u001b[1;33m(\u001b[0m\u001b[0mmot\u001b[0m\u001b[1;33m[\u001b[0m\u001b[1;36m1\u001b[0m\u001b[1;33m:\u001b[0m\u001b[0mlen\u001b[0m\u001b[1;33m(\u001b[0m\u001b[0mmot\u001b[0m\u001b[1;33m)\u001b[0m\u001b[1;33m-\u001b[0m\u001b[1;36m1\u001b[0m\u001b[1;33m]\u001b[0m\u001b[1;33m)\u001b[0m\u001b[1;33m\u001b[0m\u001b[1;33m\u001b[0m\u001b[0m\n\u001b[1;32m----> 5\u001b[1;33m \u001b[0mprint\u001b[0m\u001b[1;33m(\u001b[0m\u001b[0mmot\u001b[0m\u001b[1;33m[\u001b[0m\u001b[1;36m1\u001b[0m\u001b[1;33m:\u001b[0m\u001b[0mlen\u001b[0m\u001b[1;33m(\u001b[0m\u001b[0mmot\u001b[0m\u001b[1;33m-\u001b[0m\u001b[1;36m1\u001b[0m\u001b[1;33m)\u001b[0m\u001b[1;33m]\u001b[0m\u001b[1;33m)\u001b[0m\u001b[1;33m\u001b[0m\u001b[1;33m\u001b[0m\u001b[0m\n\u001b[0m\u001b[0;32m      6\u001b[0m \u001b[1;33m\u001b[0m\u001b[0m\n",
      "\u001b[1;31mTypeError\u001b[0m: unsupported operand type(s) for -: 'str' and 'int'"
     ]
    }
   ],
   "source": [
    "mot = \"Vendredi\"\n",
    "print(mot[0:4])\n",
    "print(mot[3:6])\n",
    "print(mot[1:len(mot)-1])\n",
    "print(mot[1:len(mot-1)])\n",
    "\n"
   ]
  },
  {
   "cell_type": "markdown",
   "metadata": {},
   "source": [
    "> En anglais, on parle de ```slice``` \n",
    "> La notation est en fait très puissante, elle autorise les nombres négatifs, et autorise même un troisième paramètre pour \"sauter\" des caractères.\n",
    "```\n",
    "mot=\"Vendredi\"\n",
    "mot[-5::2] --> \"dei\"```\n",
    "> Tout ça est clairement hors programme, et je ne souhaite pas que vous l'utilisiez dans ce TP :)\n",
    "\n",
    "![heavy](https://i.imgur.com/Qn4FL7d.jpeg)"
   ]
  },
  {
   "cell_type": "markdown",
   "metadata": {},
   "source": [
    "##  Conversions\n",
    "#### 9.On peut convertir un nombre véritable en une chaîne de caractères contenant une suite de chiffres, et inversement.\n",
    "> En revanche on ne peut pas concaténer directement une chaîne et un nombre...\n",
    "Le message d'erreur obtenu est explicite, il être capable de le reconnaitre quand on le croise : \n",
    "`TypeError: can only concatenate str (not \"int\") to str`"
   ]
  },
  {
   "cell_type": "code",
   "execution_count": 18,
   "metadata": {},
   "outputs": [
    {
     "name": "stdout",
     "output_type": "stream",
     "text": [
      "<class 'str'>\n",
      "<class 'int'>\n",
      "8712\n",
      "8712   OK : on peut additionner deux nombres\n",
      "864765\n",
      "864765 OK : on peut concaténer deux chaines\n"
     ]
    },
    {
     "ename": "TypeError",
     "evalue": "can only concatenate str (not \"int\") to str",
     "output_type": "error",
     "traceback": [
      "\u001b[1;31m---------------------------------------------------------------------------\u001b[0m",
      "\u001b[1;31mTypeError\u001b[0m                                 Traceback (most recent call last)",
      "\u001b[1;32m<ipython-input-18-7fc5b9eb36ad>\u001b[0m in \u001b[0;36m<module>\u001b[1;34m\u001b[0m\n\u001b[0;32m     10\u001b[0m \u001b[0mprint\u001b[0m\u001b[1;33m(\u001b[0m\u001b[1;34m\"864765 OK : on peut concaténer deux chaines\"\u001b[0m\u001b[1;33m)\u001b[0m\u001b[1;33m\u001b[0m\u001b[1;33m\u001b[0m\u001b[0m\n\u001b[0;32m     11\u001b[0m \u001b[1;33m\u001b[0m\u001b[0m\n\u001b[1;32m---> 12\u001b[1;33m \u001b[0mprint\u001b[0m\u001b[1;33m(\u001b[0m\u001b[0mchaine\u001b[0m \u001b[1;33m+\u001b[0m \u001b[1;36m45\u001b[0m\u001b[1;33m)\u001b[0m\u001b[1;33m\u001b[0m\u001b[1;33m\u001b[0m\u001b[0m\n\u001b[0m\u001b[0;32m     13\u001b[0m \u001b[1;31m# *** erreur *** on ne peut pas additionner une chaîne et un nombre\u001b[0m\u001b[1;33m\u001b[0m\u001b[1;33m\u001b[0m\u001b[1;33m\u001b[0m\u001b[0m\n",
      "\u001b[1;31mTypeError\u001b[0m: can only concatenate str (not \"int\") to str"
     ]
    }
   ],
   "source": [
    "chaine = '8647'\n",
    "print(type(chaine))\n",
    "numerique = int(chaine)\n",
    "print(type(numerique))\n",
    "      \n",
    "print(int(chaine) + 65)\n",
    "print(\"8712   OK : on peut additionner deux nombres\")\n",
    "\n",
    "print(chaine + str(65))\n",
    "print(\"864765 OK : on peut concaténer deux chaines\")\n",
    "\n",
    "print(chaine + 45)\n",
    "# *** erreur *** on ne peut pas additionner une chaîne et un nombre\n"
   ]
  },
  {
   "cell_type": "markdown",
   "metadata": {},
   "source": [
    "> ```int(\"8647\")``` convertit la chaîne en nombre entier, \n",
    "\n",
    ">```str(65)``` convertit l'entier en chaine."
   ]
  },
  {
   "cell_type": "markdown",
   "metadata": {},
   "source": [
    "## Les chaînes sont IMMUTABLES\n",
    "\n",
    "![menhir](https://i.imgur.com/W7V5Gyx.jpg)\n",
    "\n",
    "#### 10.Les chaînes sont non modifiables : Vous ne pouvez pas modifier le contenu d'une chaîne existante.\n"
   ]
  },
  {
   "cell_type": "code",
   "execution_count": 19,
   "metadata": {},
   "outputs": [
    {
     "ename": "TypeError",
     "evalue": "'str' object does not support item assignment",
     "output_type": "error",
     "traceback": [
      "\u001b[1;31m---------------------------------------------------------------------------\u001b[0m",
      "\u001b[1;31mTypeError\u001b[0m                                 Traceback (most recent call last)",
      "\u001b[1;32m<ipython-input-19-4873a6163541>\u001b[0m in \u001b[0;36m<module>\u001b[1;34m\u001b[0m\n\u001b[0;32m      1\u001b[0m \u001b[0msalut\u001b[0m \u001b[1;33m=\u001b[0m \u001b[1;34m\"bonjour à tous\"\u001b[0m\u001b[1;33m\u001b[0m\u001b[1;33m\u001b[0m\u001b[0m\n\u001b[1;32m----> 2\u001b[1;33m \u001b[0msalut\u001b[0m\u001b[1;33m[\u001b[0m\u001b[1;36m0\u001b[0m\u001b[1;33m]\u001b[0m \u001b[1;33m=\u001b[0m \u001b[1;34m\"B\"\u001b[0m\u001b[1;33m\u001b[0m\u001b[1;33m\u001b[0m\u001b[0m\n\u001b[0m\u001b[0;32m      3\u001b[0m \u001b[0mprint\u001b[0m \u001b[1;33m(\u001b[0m\u001b[0msalut\u001b[0m\u001b[1;33m)\u001b[0m\u001b[1;33m\u001b[0m\u001b[1;33m\u001b[0m\u001b[0m\n",
      "\u001b[1;31mTypeError\u001b[0m: 'str' object does not support item assignment"
     ]
    }
   ],
   "source": [
    "salut = \"bonjour à tous\"\n",
    "salut[0] = \"B\"\n",
    "print (salut)"
   ]
  },
  {
   "cell_type": "markdown",
   "metadata": {},
   "source": [
    "Au lieu d'afficher ```\"Bonjour à tous\"```, ce script « lève » une erreur du genre : ```TypeError: 'str' object does not support item assignment```. \n",
    "\n",
    "Cette erreur est provoquée à la deuxième ligne du script. On y essaie de remplacer une lettre par une autre dans la chaîne, mais cela n'est pas permis. \n",
    "\n",
    "Si on ne peut pas modifier une chaîne, on peut toutefois en construire de nouvelles, voire réaffecter une nouvelle chaîne à une variable : \n"
   ]
  },
  {
   "cell_type": "code",
   "execution_count": 20,
   "metadata": {},
   "outputs": [
    {
     "name": "stdout",
     "output_type": "stream",
     "text": [
      "Bonjour à tous\n"
     ]
    }
   ],
   "source": [
    "salut = \"bonjour à tous\"\n",
    "salut = \"B\" + salut[1:]\n",
    "print (salut)"
   ]
  },
  {
   "attachments": {},
   "cell_type": "markdown",
   "metadata": {},
   "source": [
    "## Exercice bilan : 1) Mettre un mot au pluriel\n",
    "![pluriel](https://i.imgur.com/BYxyhAQ.jpg)\n",
    "\n",
    ">Objectifs : écrire petit à petit un programme qui renvoie le pluriel d’un mot donné.\n",
    "\n",
    "1. Pour une chaîne mot, par exemple \"chat\", affiche le pluriel de ce mot en rajoutant un \"s\".\n",
    "2. Pour un mot, par exemple \"souris\", affiche la dernière lettre de cette chaîne (ici \"s\"). \n",
    "\n",
    "Améliore ton programme de la première question, en testant si la dernière lettre est déjà un \"s\" :\n",
    "* si c’est le cas, il n’y a rien à faire pour le pluriel,\n",
    "* sinon il faut ajouter un \"s\".\n",
    "\n",
    "\n",
    "3. Teste si un mot se termine par \"al\". Si c’est le cas, affiche le pluriel en \"aux\" (le pluriel de \"cheval\" est \"chevaux\"). (Ne tiens pas compte des exceptions.)\n",
    "4. Rassemble tout ton travail des trois premières questions dans une fonction met_au_pluriel(). \n",
    "La fonction n’affiche rien, mais renvoie le mot au pluriel.\n",
    "\n",
    "![prototype](https://i.imgur.com/99KMLSk.jpg)\n"
   ]
  },
  {
   "cell_type": "code",
   "execution_count": 21,
   "metadata": {},
   "outputs": [
    {
     "name": "stdout",
     "output_type": "stream",
     "text": [
      "chats\n",
      "souris\n",
      "chevaux\n"
     ]
    }
   ],
   "source": [
    "def met_au_pluriel(mot):\n",
    "    if (mot[len(mot)-1] == \"s\"):\n",
    "        return mot\n",
    "    if (mot[len(mot)-2: ] == \"al\"):\n",
    "        return mot[:len(mot)-2] + \"aux\"\n",
    "    pluriel = mot + \"s\"\n",
    "    return pluriel\n",
    "print(met_au_pluriel(\"chat\"))\n",
    "print(met_au_pluriel(\"souris\"))\n",
    "print(met_au_pluriel(\"cheval\"))"
   ]
  },
  {
   "cell_type": "code",
   "execution_count": 22,
   "metadata": {},
   "outputs": [
    {
     "name": "stdout",
     "output_type": "stream",
     "text": [
      "Tous les tests sont OK !\n"
     ]
    }
   ],
   "source": [
    "# Validation, ne pas modifier !\n",
    "assert met_au_pluriel(\"chat\") == \"chats\", 'met_au_pluriel(\"chat\") devrait renvoyer \"chats\"'\n",
    "assert met_au_pluriel(\"souris\") == \"souris\", 'met_au_pluriel(\"souris\") devrait renvoyer \"souris\"'\n",
    "assert met_au_pluriel(\"cheval\") == \"chevaux\", 'met_au_pluriel(\"cheval\") devrait renvoyer \"chevaux\"'\n",
    "print(\"Tous les tests sont OK !\")"
   ]
  },
  {
   "attachments": {},
   "cell_type": "markdown",
   "metadata": {},
   "source": [
    "##  Un peu plus sur les chaînes.\n",
    "> Sucre syntaxique est une expression imaginée par Peter J. Landin pour désigner les extensions à la syntaxe d'un langage de programmation qui ne modifient pas son expressivité mais le rendent plus agréable à écrire comme à lire.\n",
    "> Le sucre syntaxique exprime le fait de donner au programmeur des possibilités d'écriture plus succinctes ou plus proches d'une notation usuelle.\n",
    "\n",
    "![sucre](https://i.imgur.com/bVyfC4j.jpg)\n",
    "\n",
    "\n",
    "#### 11. Une boucle `for ... in ...` permet de parcourir une chaîne caractère par caractère, sans avoir à utiliser un indice :\n",
    "```\n",
    "for carac in mot:\n",
    "```\n",
    "#### 12. On peut tester si un caractère appartient à une certaine liste de caractères. \n",
    "Par exemple `if carac in [\"a\", \"A\", \"b\", \"B\", \"c\", \"C\"]:` \n",
    "permet d’exécuter des instructions si le caractère carac est l’une des lettres a, A, b, B, c, C.\n",
    "\n",
    "Pour éviter certaines lettres, on utiliserait :\n",
    "`if carac not in [\"X\", \"Y\", \"Z\"]:`\n",
    "\n",
    "Par exemple, si on veut compter les voyelles ou les consonnes on peut proposer le code suivant :"
   ]
  },
  {
   "cell_type": "code",
   "execution_count": 23,
   "metadata": {},
   "outputs": [
    {
     "name": "stdout",
     "output_type": "stream",
     "text": [
      "Dans ' non ' on trouve  2 consonnes\n",
      "Dans ' oui ' on trouve  0 consonnes\n"
     ]
    }
   ],
   "source": [
    "def compteConsonnes(chaine):\n",
    "    voyelles = \"aeiouy\"\n",
    "    nombreConsonnes = 0\n",
    "    for carac in chaine:\n",
    "        if (carac not in voyelles):\n",
    "            nombreConsonnes = nombreConsonnes + 1\n",
    "    return nombreConsonnes\n",
    "\n",
    "chaine = \"non\"\n",
    "print(\"Dans '\", chaine, \"' on trouve \", compteConsonnes(chaine), \"consonnes\")\n",
    "chaine = \"oui\"\n",
    "print(\"Dans '\", chaine, \"' on trouve \", compteConsonnes(chaine), \"consonnes\")\n",
    "        "
   ]
  },
  {
   "attachments": {},
   "cell_type": "markdown",
   "metadata": {},
   "source": [
    "## Exercice bilan : 2) Parler le latin comme un cochon\n",
    "Le « pig latin » est un argot principalement utilisé en anglais, équivalent au louchébem (largonji) en français : un mélange de verlan (pour le renversement des syllabes) et de javanais (pour l'ajout systématique d'une syllabe).\n",
    "\n",
    "![latin](https://i.imgur.com/vSXoh8Y.jpeg)\n",
    "\n",
    "On transforme un mot commençant par une consonne selon la recette suivante :\n",
    "* on déplace la première lettre à la fin du mot ;\n",
    "* on rajoute le suffixe UM.\n",
    "\n",
    "Par exemple VITRE devient ITREVUM; BLANCHE devient LANCHEBUM; CARAMEL devient ARAMELCUM. \n",
    "Les mots commençant par une voyelle ne changent pas. \n",
    "\n",
    "Écris une fonction latin_cochon() qui transforme un mot selon ce procédé.\n",
    "![latin_cochon](https://i.imgur.com/k8pcPj7.jpeg)"
   ]
  },
  {
   "cell_type": "code",
   "execution_count": 37,
   "metadata": {},
   "outputs": [
    {
     "name": "stdout",
     "output_type": "stream",
     "text": [
      "ITREVUM\n",
      "ARLERPUM ATINLUM EST UNE ACTIVITE UIQUM AGNEGUM A ETRE ONNUECUM \n"
     ]
    }
   ],
   "source": [
    "def latin_cochon(mot):\n",
    "    if (mot[0] in \"AEIOUY\"):\n",
    "        return mot\n",
    "    # on deplace la premiere lettre a la fin du mot\n",
    "    traduction = mot[1:] + mot[0] + \"UM\"\n",
    "    return traduction\n",
    "\n",
    "print(latin_cochon(\"VITRE\"))\n",
    "\n",
    "phrase =\"PARLER LATIN EST UNE ACTIVITE QUI GAGNE A ETRE CONNUE\"\n",
    "mots = phrase.split(\" \")\n",
    "phraseTraduite = \"\"\n",
    "for mot in mots : \n",
    "    phraseTraduite = phraseTraduite + latin_cochon(mot) +\" \"\n",
    "print(phraseTraduite)"
   ]
  },
  {
   "cell_type": "code",
   "execution_count": 38,
   "metadata": {},
   "outputs": [
    {
     "name": "stdout",
     "output_type": "stream",
     "text": [
      "Tous les tests sont OK !\n"
     ]
    }
   ],
   "source": [
    "# Validation, ne pas modifier !\n",
    "assert latin_cochon(\"VITRE\") == \"ITREVUM\", 'latin_cochon(\"VITRE\") devrait retourner \"ITREVUM\" et pas ' + latin_cochon(\"VITRE\")\n",
    "assert latin_cochon(\"BLANCHE\") == \"LANCHEBUM\", 'latin_cochon(\"BLANCHE\")  devrait retourner  \"LANCHEBUM\"et pas ' + latin_cochon(\"VITRE\")\n",
    "assert latin_cochon(\"CARAMEL\") == \"ARAMELCUM\", 'latin_cochon(\"CARAMEL\")  devrait retourner  \"ARAMELCUM\"et pas ' + latin_cochon(\"VITRE\")\n",
    "assert latin_cochon(\"ORTIE\") == \"ORTIE\", 'latin_cochon(\"ORTIE\")  devrait retourner \"ORTIE\"et pas ' + latin_cochon(\"VITRE\")\n",
    "print(\"Tous les tests sont OK !\")"
   ]
  },
  {
   "cell_type": "markdown",
   "metadata": {},
   "source": [
    "**Bonus :**\n",
    "Et dans l'autre sens ? Seriez vous capable de reconstruire la phrase suivante ? \n",
    "\n",
    "> On pourra utiliser message.split(\" \") pour transformer une phrase en tableau de mots..."
   ]
  },
  {
   "cell_type": "code",
   "execution_count": 30,
   "metadata": {},
   "outputs": [
    {
     "name": "stdout",
     "output_type": "stream",
     "text": [
      "PARFOIS\n",
      "PARFOIS ON ME DEMANDE DE TRAITER DES EXERCICES TRES ETRANGES \n"
     ]
    }
   ],
   "source": [
    "message = \"ARFOISPUM NOUM EMUM EMANDEDUM EDUM RAITERTUM ESDUM XERCICESEUM RESTUM TRANGESEUM\"\n",
    "\n",
    "def cochon_latin(mot):\n",
    "    if mot[len(mot)-2:] == \"UM\":\n",
    "        return mot[len(mot)-3] + mot[:len(mot)-3]\n",
    "    return mot\n",
    "\n",
    "print(cochon_latin(\"ARFOISPUM\"))\n",
    "\n",
    "message = phrase.split(\" \")\n",
    "phraseTraduite = \"\"\n",
    "for mot in mots : \n",
    "    phraseTraduite = phraseTraduite + cochon_latin(mot) +\" \"\n",
    "print(phraseTraduite)"
   ]
  },
  {
   "cell_type": "code",
   "execution_count": null,
   "metadata": {},
   "outputs": [],
   "source": []
  }
 ],
 "metadata": {
  "kernelspec": {
   "display_name": "Python 3",
   "language": "python",
   "name": "python3"
  },
  "language_info": {
   "codemirror_mode": {
    "name": "ipython",
    "version": 3
   },
   "file_extension": ".py",
   "mimetype": "text/x-python",
   "name": "python",
   "nbconvert_exporter": "python",
   "pygments_lexer": "ipython3",
   "version": "3.7.4"
  }
 },
 "nbformat": 4,
 "nbformat_minor": 2
}
