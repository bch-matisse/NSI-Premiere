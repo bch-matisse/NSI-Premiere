{
 "cells": [
  {
   "cell_type": "code",
   "execution_count": 1,
   "metadata": {
    "collapsed": true
   },
   "outputs": [],
   "source": [
    "from pyknon.genmidi import Midi\n",
    "from pyknon.music import NoteSeq\n",
    "\n",
    "notes1 = NoteSeq(\"D4 F#8 A Bb4\")\n",
    "midi = Midi(1, tempo=90)\n",
    "midi.seq_notes(notes1, track=0)\n",
    "midi.write(\"demo.mid\")"
   ]
  },
  {
   "cell_type": "code",
   "execution_count": 4,
   "metadata": {
    "collapsed": true
   },
   "outputs": [],
   "source": [
    "from pyknon.genmidi import Midi\n",
    "from pyknon.music import NoteSeq\n",
    "\n",
    "# In the MIDI library, the tracks and channels are numbered from 0,\n",
    "# While the MIDI Standard is numbered from 1,\n",
    "# So to use percussion you must use channel 9 in the library\n",
    "\n",
    "n1 = NoteSeq(\"C4 D E F\")\n",
    "n2 = NoteSeq(\"C8 C G, G C' C G, G\")\n",
    "\n",
    "m2 = Midi(2, tempo=123, channel=[0, 9], instrument=[41, 40])\n",
    "m2.seq_notes(n1, track=0, channel=0)\n",
    "m2.seq_notes(n2, track=1, channel=9)\n",
    "m2.write(\"percussion.mid\")"
   ]
  },
  {
   "cell_type": "code",
   "execution_count": 8,
   "metadata": {},
   "outputs": [
    {
     "name": "stdout",
     "output_type": "stream",
     "text": [
      "Write exercise11-bach-crab-canon.mid\n",
      "Done.\n"
     ]
    }
   ],
   "source": [
    "from pyknon.genmidi import Midi\n",
    "from pyknon.music import Note, NoteSeq\n",
    "\n",
    "# filename - file name, without extension\n",
    "#            The same file name is used as input, with extension .notes,\n",
    "#            to read the list of notes for the theme,\n",
    "#            and as output, with the extension .mid,\n",
    "#            to generate corresponding MIDI file.\n",
    "def crab_canon(filename):\n",
    "    theme = NoteSeq(\"file://%s.notes\" % filename)\n",
    "    rev_theme = theme.transposition(-12).retrograde()\n",
    "\n",
    "    midi = Midi(2, tempo=120)\n",
    "    midi.seq_notes(theme)\n",
    "    #midi.seq_notes(rev_theme, track=1)\n",
    "    output_file = \"%s.mid\" % filename\n",
    "    print(\"Write \" + output_file)\n",
    "    midi.write(output_file)\n",
    "\n",
    "crab_canon(\"exercise11-bach-crab-canon\")\n",
    "\n",
    "print(\"Done.\")"
   ]
  },
  {
   "cell_type": "code",
   "execution_count": null,
   "metadata": {
    "collapsed": true
   },
   "outputs": [],
   "source": []
  }
 ],
 "metadata": {
  "kernelspec": {
   "display_name": "Python 3",
   "language": "python",
   "name": "python3"
  },
  "language_info": {
   "codemirror_mode": {
    "name": "ipython",
    "version": 3
   },
   "file_extension": ".py",
   "mimetype": "text/x-python",
   "name": "python",
   "nbconvert_exporter": "python",
   "pygments_lexer": "ipython3",
   "version": "3.4.5"
  }
 },
 "nbformat": 4,
 "nbformat_minor": 2
}
